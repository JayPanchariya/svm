{
  "cells": [
    {
      "cell_type": "markdown",
      "metadata": {
        "id": "NXIQSGPX85ir"
      },
      "source": [
        "#From Linear classifiers to SVMs\n",
        "** Ecole Centrale Nantes **\n",
        "\n",
        "** Diana Mateus **\n",
        "\n",
        "\n",
        "\n"
      ]
    },
    {
      "cell_type": "markdown",
      "metadata": {
        "id": "DPbG0deQ85ix"
      },
      "source": [
        "PARTICIPANTS: **(Fill in your names)**\n",
        "    "
      ]
    },
    {
      "cell_type": "code",
      "execution_count": 2,
      "metadata": {},
      "outputs": [
        {
          "name": "stdout",
          "output_type": "stream",
          "text": [
            "Requirement already satisfied: pip in /Users/jayotsana/Documents/coding_assignment/envai/lib/python3.13/site-packages (24.3.1)\n"
          ]
        }
      ],
      "source": [
        "!python -m pip install -U pip"
      ]
    },
    {
      "cell_type": "code",
      "execution_count": 3,
      "metadata": {
        "id": "ocTv1dr885iy"
      },
      "outputs": [],
      "source": [
        "import os\n",
        "import numpy as np\n",
        "import matplotlib.pyplot as plt\n",
        "\n",
        "#Modules for image processing\n",
        "import skimage\n",
        "from skimage import io\n",
        "from skimage.color import rgb2gray\n",
        "from skimage.transform import resize\n",
        "\n",
        "#Modules for machine learning\n",
        "from sklearn.model_selection import train_test_split\n",
        "from sklearn.linear_model import LogisticRegression\n",
        "from sklearn.svm import SVC\n",
        "from sklearn.model_selection import GridSearchCV\n",
        "from sklearn.metrics import roc_curve\n",
        "\n",
        "#Useful for manual data splitting\n",
        "import random\n",
        "from sklearn.utils import shuffle"
      ]
    },
    {
      "cell_type": "markdown",
      "metadata": {
        "id": "4z79Frcx85i4"
      },
      "source": [
        "\n",
        "# 1. Loading and splitting data"
      ]
    },
    {
      "cell_type": "markdown",
      "metadata": {
        "id": "IYBvODRD85i5"
      },
      "source": [
        "**a)** Download the animals10classes dataset from hippocampus, which is a subset of the Caltech 101 dataset (http://www.vision.caltech.edu/Image_Datasets/Caltech101/Caltech101.html). The animals subset is composed of images belonging to one among 10 classes. Run the code bellow to check images and labels are read correctly and store the name of the classes in the list ```labelNamesAll```. If present after unziping the dataset, remove the _MACOSX directory as it is not needed."
      ]
    },
    {
      "cell_type": "code",
      "execution_count": 4,
      "metadata": {
        "id": "bMFXMn5oBcQI"
      },
      "outputs": [],
      "source": [
        "# Uncomment if using COLAB  (and comment next cell)\n",
        "#from google.colab import drive\n",
        "#drive.mount('/content/drive')\n",
        "#IMDIR = ('/content/drive/MyDrive/DATA/animals10classes')\n"
      ]
    },
    {
      "cell_type": "code",
      "execution_count": 5,
      "metadata": {
        "id": "3NKCjlWRBLc7"
      },
      "outputs": [],
      "source": [
        "# Uncomment if running locally (comment if running in COLAB)\n",
        "# Change with your own path\n",
        "IMDIR = '/Users/jayotsana/Documents/coding_assignment/task_1/data/animals10classes/'\n",
        "# For Windows OS use IMIDR=r'/Users/dianamateus/DATA/101Caltech/animals10classes/'"
      ]
    },
    {
      "cell_type": "code",
      "execution_count": 6,
      "metadata": {},
      "outputs": [
        {
          "name": "stdout",
          "output_type": "stream",
          "text": [
            "['ant', 'butterfly', 'dragonfly', 'lobster', 'crocodile', 'starfish', 'octopus', 'sea_horse', 'flamingo', 'crayfish']\n"
          ]
        }
      ],
      "source": [
        "for i, name in enumerate(os.walk(IMDIR)): \n",
        "    if i==0:\n",
        "        label=name[1]\n",
        "    # if i==1:\n",
        "    #     print (*name)\n",
        "\n",
        "print(label)   "
      ]
    },
    {
      "cell_type": "code",
      "execution_count": 7,
      "metadata": {},
      "outputs": [
        {
          "name": "stdout",
          "output_type": "stream",
          "text": [
            "('/Users/jayotsana/Documents/coding_assignment/task_1/data/animals10classes/', ['ant', 'butterfly', 'dragonfly', 'lobster', 'crocodile', 'starfish', 'octopus', 'sea_horse', 'flamingo', 'crayfish'], [])\n",
            "('/Users/jayotsana/Documents/coding_assignment/task_1/data/animals10classes/ant', [], ['image_0032.jpg', 'image_0026.jpg', 'image_0027.jpg', 'image_0033.jpg', 'image_0019.jpg', 'image_0025.jpg', 'image_0031.jpg', 'image_0030.jpg', 'image_0024.jpg', 'image_0018.jpg', 'image_0020.jpg', 'image_0034.jpg', 'image_0008.jpg', 'image_0009.jpg', 'image_0035.jpg', 'image_0021.jpg', 'image_0037.jpg', 'image_0023.jpg', 'image_0022.jpg', 'image_0036.jpg', 'image_0042.jpg', 'image_0040.jpg', 'image_0041.jpg', 'image_0013.jpg', 'image_0007.jpg', 'image_0006.jpg', 'image_0012.jpg', 'image_0038.jpg', 'image_0004.jpg', 'image_0010.jpg', 'image_0011.jpg', 'image_0005.jpg', 'image_0039.jpg', 'image_0001.jpg', 'image_0015.jpg', 'image_0029.jpg', 'image_0028.jpg', 'image_0014.jpg', 'image_0016.jpg', 'image_0002.jpg', 'image_0003.jpg', 'image_0017.jpg'])\n",
            "('/Users/jayotsana/Documents/coding_assignment/task_1/data/animals10classes/butterfly', [], ['image_0032.jpg', 'image_0026.jpg', 'image_0027.jpg', 'image_0033.jpg', 'image_0019.jpg', 'image_0025.jpg', 'image_0031.jpg', 'image_0030.jpg', 'image_0024.jpg', 'image_0018.jpg', 'image_0020.jpg', 'image_0034.jpg', 'image_0008.jpg', 'image_0009.jpg', 'image_0035.jpg', 'image_0021.jpg', 'image_0037.jpg', 'image_0023.jpg', 'image_0022.jpg', 'image_0036.jpg', 'image_0079.jpg', 'image_0051.jpg', 'image_0045.jpg', 'image_0086.jpg', 'image_0087.jpg', 'image_0044.jpg', 'image_0050.jpg', 'image_0078.jpg', 'image_0046.jpg', 'image_0052.jpg', 'image_0085.jpg', 'image_0091.jpg', 'image_0090.jpg', 'image_0084.jpg', 'image_0053.jpg', 'image_0047.jpg', 'image_0043.jpg', 'image_0057.jpg', 'image_0080.jpg', 'image_0081.jpg', 'image_0056.jpg', 'image_0042.jpg', 'image_0054.jpg', 'image_0040.jpg', 'image_0068.jpg', 'image_0083.jpg', 'image_0082.jpg', 'image_0069.jpg', 'image_0041.jpg', 'image_0055.jpg', 'image_0058.jpg', 'image_0070.jpg', 'image_0064.jpg', 'image_0065.jpg', 'image_0071.jpg', 'image_0059.jpg', 'image_0067.jpg', 'image_0073.jpg', 'image_0072.jpg', 'image_0066.jpg', 'image_0062.jpg', 'image_0076.jpg', 'image_0089.jpg', 'image_0088.jpg', 'image_0077.jpg', 'image_0063.jpg', 'image_0075.jpg', 'image_0061.jpg', 'image_0049.jpg', 'image_0048.jpg', 'image_0060.jpg', 'image_0074.jpg', 'image_0013.jpg', 'image_0007.jpg', 'image_0006.jpg', 'image_0012.jpg', 'image_0038.jpg', 'image_0004.jpg', 'image_0010.jpg', 'image_0011.jpg', 'image_0005.jpg', 'image_0039.jpg', 'image_0001.jpg', 'image_0015.jpg', 'image_0029.jpg', 'image_0028.jpg', 'image_0014.jpg', 'image_0016.jpg', 'image_0002.jpg', 'image_0003.jpg', 'image_0017.jpg'])\n",
            "('/Users/jayotsana/Documents/coding_assignment/task_1/data/animals10classes/dragonfly', [], ['image_0032.jpg', 'image_0026.jpg', 'image_0027.jpg', 'image_0033.jpg', 'image_0019.jpg', 'image_0025.jpg', 'image_0031.jpg', 'image_0030.jpg', 'image_0024.jpg', 'image_0018.jpg', 'image_0020.jpg', 'image_0034.jpg', 'image_0008.jpg', 'image_0009.jpg', 'image_0035.jpg', 'image_0021.jpg', 'image_0037.jpg', 'image_0023.jpg', 'image_0022.jpg', 'image_0036.jpg', 'image_0051.jpg', 'image_0045.jpg', 'image_0044.jpg', 'image_0050.jpg', 'image_0046.jpg', 'image_0052.jpg', 'image_0053.jpg', 'image_0047.jpg', 'image_0043.jpg', 'image_0057.jpg', 'image_0056.jpg', 'image_0042.jpg', 'image_0054.jpg', 'image_0040.jpg', 'image_0068.jpg', 'image_0041.jpg', 'image_0055.jpg', 'image_0058.jpg', 'image_0064.jpg', 'image_0065.jpg', 'image_0059.jpg', 'image_0067.jpg', 'image_0066.jpg', 'image_0062.jpg', 'image_0063.jpg', 'image_0061.jpg', 'image_0049.jpg', 'image_0048.jpg', 'image_0060.jpg', 'image_0013.jpg', 'image_0007.jpg', 'image_0006.jpg', 'image_0012.jpg', 'image_0038.jpg', 'image_0004.jpg', 'image_0010.jpg', 'image_0011.jpg', 'image_0005.jpg', 'image_0039.jpg', 'image_0001.jpg', 'image_0015.jpg', 'image_0029.jpg', 'image_0028.jpg', 'image_0014.jpg', 'image_0016.jpg', 'image_0002.jpg', 'image_0003.jpg', 'image_0017.jpg'])\n",
            "('/Users/jayotsana/Documents/coding_assignment/task_1/data/animals10classes/lobster', [], ['image_0032.jpg', 'image_0026.jpg', 'image_0027.jpg', 'image_0033.jpg', 'image_0019.jpg', 'image_0025.jpg', 'image_0031.jpg', 'image_0030.jpg', 'image_0024.jpg', 'image_0018.jpg', 'image_0020.jpg', 'image_0034.jpg', 'image_0008.jpg', 'image_0009.jpg', 'image_0035.jpg', 'image_0021.jpg', 'image_0037.jpg', 'image_0023.jpg', 'image_0022.jpg', 'image_0036.jpg', 'image_0040.jpg', 'image_0041.jpg', 'image_0013.jpg', 'image_0007.jpg', 'image_0006.jpg', 'image_0012.jpg', 'image_0038.jpg', 'image_0004.jpg', 'image_0010.jpg', 'image_0011.jpg', 'image_0005.jpg', 'image_0039.jpg', 'image_0001.jpg', 'image_0015.jpg', 'image_0029.jpg', 'image_0028.jpg', 'image_0014.jpg', 'image_0016.jpg', 'image_0002.jpg', 'image_0003.jpg', 'image_0017.jpg'])\n",
            "('/Users/jayotsana/Documents/coding_assignment/task_1/data/animals10classes/crocodile', [], ['image_0032.jpg', 'image_0026.jpg', 'image_0027.jpg', 'image_0033.jpg', 'image_0019.jpg', 'image_0025.jpg', 'image_0031.jpg', 'image_0030.jpg', 'image_0024.jpg', 'image_0018.jpg', 'image_0020.jpg', 'image_0034.jpg', 'image_0008.jpg', 'image_0009.jpg', 'image_0035.jpg', 'image_0021.jpg', 'image_0037.jpg', 'image_0023.jpg', 'image_0022.jpg', 'image_0036.jpg', 'image_0045.jpg', 'image_0044.jpg', 'image_0050.jpg', 'image_0046.jpg', 'image_0047.jpg', 'image_0043.jpg', 'image_0042.jpg', 'image_0040.jpg', 'image_0041.jpg', 'image_0049.jpg', 'image_0048.jpg', 'image_0013.jpg', 'image_0007.jpg', 'image_0006.jpg', 'image_0012.jpg', 'image_0038.jpg', 'image_0004.jpg', 'image_0010.jpg', 'image_0011.jpg', 'image_0005.jpg', 'image_0039.jpg', 'image_0001.jpg', 'image_0015.jpg', 'image_0029.jpg', 'image_0028.jpg', 'image_0014.jpg', 'image_0016.jpg', 'image_0002.jpg', 'image_0003.jpg', 'image_0017.jpg'])\n",
            "('/Users/jayotsana/Documents/coding_assignment/task_1/data/animals10classes/starfish', [], ['image_0032.jpg', 'image_0026.jpg', 'image_0027.jpg', 'image_0033.jpg', 'image_0019.jpg', 'image_0025.jpg', 'image_0031.jpg', 'image_0030.jpg', 'image_0024.jpg', 'image_0018.jpg', 'image_0020.jpg', 'image_0034.jpg', 'image_0008.jpg', 'image_0009.jpg', 'image_0035.jpg', 'image_0021.jpg', 'image_0037.jpg', 'image_0023.jpg', 'image_0022.jpg', 'image_0036.jpg', 'image_0079.jpg', 'image_0051.jpg', 'image_0045.jpg', 'image_0086.jpg', 'image_0044.jpg', 'image_0050.jpg', 'image_0078.jpg', 'image_0046.jpg', 'image_0052.jpg', 'image_0085.jpg', 'image_0084.jpg', 'image_0053.jpg', 'image_0047.jpg', 'image_0043.jpg', 'image_0057.jpg', 'image_0080.jpg', 'image_0081.jpg', 'image_0056.jpg', 'image_0042.jpg', 'image_0054.jpg', 'image_0040.jpg', 'image_0068.jpg', 'image_0083.jpg', 'image_0082.jpg', 'image_0069.jpg', 'image_0041.jpg', 'image_0055.jpg', 'image_0058.jpg', 'image_0070.jpg', 'image_0064.jpg', 'image_0065.jpg', 'image_0071.jpg', 'image_0059.jpg', 'image_0067.jpg', 'image_0073.jpg', 'image_0072.jpg', 'image_0066.jpg', 'image_0062.jpg', 'image_0076.jpg', 'image_0077.jpg', 'image_0063.jpg', 'image_0075.jpg', 'image_0061.jpg', 'image_0049.jpg', 'image_0048.jpg', 'image_0060.jpg', 'image_0074.jpg', 'image_0013.jpg', 'image_0007.jpg', 'image_0006.jpg', 'image_0012.jpg', 'image_0038.jpg', 'image_0004.jpg', 'image_0010.jpg', 'image_0011.jpg', 'image_0005.jpg', 'image_0039.jpg', 'image_0001.jpg', 'image_0015.jpg', 'image_0029.jpg', 'image_0028.jpg', 'image_0014.jpg', 'image_0016.jpg', 'image_0002.jpg', 'image_0003.jpg', 'image_0017.jpg'])\n",
            "('/Users/jayotsana/Documents/coding_assignment/task_1/data/animals10classes/octopus', [], ['image_0032.jpg', 'image_0026.jpg', 'image_0027.jpg', 'image_0033.jpg', 'image_0019.jpg', 'image_0025.jpg', 'image_0031.jpg', 'image_0030.jpg', 'image_0024.jpg', 'image_0018.jpg', 'image_0020.jpg', 'image_0034.jpg', 'image_0008.jpg', 'image_0009.jpg', 'image_0035.jpg', 'image_0021.jpg', 'image_0023.jpg', 'image_0022.jpg', 'image_0013.jpg', 'image_0007.jpg', 'image_0006.jpg', 'image_0012.jpg', 'image_0004.jpg', 'image_0010.jpg', 'image_0011.jpg', 'image_0005.jpg', 'image_0001.jpg', 'image_0015.jpg', 'image_0029.jpg', 'image_0028.jpg', 'image_0014.jpg', 'image_0016.jpg', 'image_0002.jpg', 'image_0003.jpg', 'image_0017.jpg'])\n",
            "('/Users/jayotsana/Documents/coding_assignment/task_1/data/animals10classes/sea_horse', [], ['image_0032.jpg', 'image_0026.jpg', 'image_0027.jpg', 'image_0033.jpg', 'image_0019.jpg', 'image_0025.jpg', 'image_0031.jpg', 'image_0030.jpg', 'image_0024.jpg', 'image_0018.jpg', 'image_0020.jpg', 'image_0034.jpg', 'image_0008.jpg', 'image_0009.jpg', 'image_0035.jpg', 'image_0021.jpg', 'image_0037.jpg', 'image_0023.jpg', 'image_0022.jpg', 'image_0036.jpg', 'image_0051.jpg', 'image_0045.jpg', 'image_0044.jpg', 'image_0050.jpg', 'image_0046.jpg', 'image_0052.jpg', 'image_0053.jpg', 'image_0047.jpg', 'image_0043.jpg', 'image_0057.jpg', 'image_0056.jpg', 'image_0042.jpg', 'image_0054.jpg', 'image_0040.jpg', 'image_0041.jpg', 'image_0055.jpg', 'image_0049.jpg', 'image_0048.jpg', 'image_0013.jpg', 'image_0007.jpg', 'image_0006.jpg', 'image_0012.jpg', 'image_0038.jpg', 'image_0004.jpg', 'image_0010.jpg', 'image_0011.jpg', 'image_0005.jpg', 'image_0039.jpg', 'image_0001.jpg', 'image_0015.jpg', 'image_0029.jpg', 'image_0028.jpg', 'image_0014.jpg', 'image_0016.jpg', 'image_0002.jpg', 'image_0003.jpg', 'image_0017.jpg'])\n",
            "('/Users/jayotsana/Documents/coding_assignment/task_1/data/animals10classes/flamingo', [], ['image_0032.jpg', 'image_0026.jpg', 'image_0027.jpg', 'image_0033.jpg', 'image_0019.jpg', 'image_0025.jpg', 'image_0031.jpg', 'image_0030.jpg', 'image_0024.jpg', 'image_0018.jpg', 'image_0020.jpg', 'image_0034.jpg', 'image_0008.jpg', 'image_0009.jpg', 'image_0035.jpg', 'image_0021.jpg', 'image_0037.jpg', 'image_0023.jpg', 'image_0022.jpg', 'image_0036.jpg', 'image_0051.jpg', 'image_0045.jpg', 'image_0044.jpg', 'image_0050.jpg', 'image_0046.jpg', 'image_0052.jpg', 'image_0053.jpg', 'image_0047.jpg', 'image_0043.jpg', 'image_0057.jpg', 'image_0056.jpg', 'image_0042.jpg', 'image_0054.jpg', 'image_0040.jpg', 'image_0041.jpg', 'image_0055.jpg', 'image_0058.jpg', 'image_0064.jpg', 'image_0065.jpg', 'image_0059.jpg', 'image_0067.jpg', 'image_0066.jpg', 'image_0062.jpg', 'image_0063.jpg', 'image_0061.jpg', 'image_0049.jpg', 'image_0048.jpg', 'image_0060.jpg', 'image_0013.jpg', 'image_0007.jpg', 'image_0006.jpg', 'image_0012.jpg', 'image_0038.jpg', 'image_0004.jpg', 'image_0010.jpg', 'image_0011.jpg', 'image_0005.jpg', 'image_0039.jpg', 'image_0001.jpg', 'image_0015.jpg', 'image_0029.jpg', 'image_0028.jpg', 'image_0014.jpg', 'image_0016.jpg', 'image_0002.jpg', 'image_0003.jpg', 'image_0017.jpg'])\n",
            "('/Users/jayotsana/Documents/coding_assignment/task_1/data/animals10classes/crayfish', [], ['image_0032.jpg', 'image_0026.jpg', 'image_0027.jpg', 'image_0033.jpg', 'image_0019.jpg', 'image_0025.jpg', 'image_0031.jpg', 'image_0030.jpg', 'image_0024.jpg', 'image_0018.jpg', 'image_0020.jpg', 'image_0034.jpg', 'image_0008.jpg', 'image_0009.jpg', 'image_0035.jpg', 'image_0021.jpg', 'image_0037.jpg', 'image_0023.jpg', 'image_0022.jpg', 'image_0036.jpg', 'image_0051.jpg', 'image_0045.jpg', 'image_0044.jpg', 'image_0050.jpg', 'image_0046.jpg', 'image_0052.jpg', 'image_0053.jpg', 'image_0047.jpg', 'image_0043.jpg', 'image_0057.jpg', 'image_0056.jpg', 'image_0042.jpg', 'image_0054.jpg', 'image_0040.jpg', 'image_0068.jpg', 'image_0069.jpg', 'image_0041.jpg', 'image_0055.jpg', 'image_0058.jpg', 'image_0070.jpg', 'image_0064.jpg', 'image_0065.jpg', 'image_0059.jpg', 'image_0067.jpg', 'image_0066.jpg', 'image_0062.jpg', 'image_0063.jpg', 'image_0061.jpg', 'image_0049.jpg', 'image_0048.jpg', 'image_0060.jpg', 'image_0013.jpg', 'image_0007.jpg', 'image_0006.jpg', 'image_0012.jpg', 'image_0038.jpg', 'image_0004.jpg', 'image_0010.jpg', 'image_0011.jpg', 'image_0005.jpg', 'image_0039.jpg', 'image_0001.jpg', 'image_0015.jpg', 'image_0029.jpg', 'image_0028.jpg', 'image_0014.jpg', 'image_0016.jpg', 'image_0002.jpg', 'image_0003.jpg', 'image_0017.jpg'])\n"
          ]
        }
      ],
      "source": [
        "X=[]\n",
        "for i, name in enumerate(os.walk(IMDIR)): \n",
        "\n",
        "        print (name)"
      ]
    },
    {
      "cell_type": "code",
      "execution_count": 8,
      "metadata": {},
      "outputs": [
        {
          "name": "stdout",
          "output_type": "stream",
          "text": [
            "['ant', 'butterfly', 'dragonfly', 'lobster', 'crocodile', 'starfish', 'octopus', 'sea_horse', 'flamingo', 'crayfish']\n",
            "[]\n",
            "[]\n",
            "[]\n",
            "[]\n",
            "[]\n",
            "[]\n",
            "[]\n",
            "[]\n",
            "[]\n",
            "[]\n"
          ]
        }
      ],
      "source": [
        "labelNamesAll=[]\n",
        "for index, (root, dirnames, filenames) in enumerate(os.walk(IMDIR)):\n",
        "      labelNamesAll.append(dirnames)\n",
        "      print(dirnames)"
      ]
    },
    {
      "cell_type": "code",
      "execution_count": 9,
      "metadata": {
        "id": "x8Z0Hj8E85i6"
      },
      "outputs": [
        {
          "name": "stdout",
          "output_type": "stream",
          "text": [
            "/Users/jayotsana/Documents/coding_assignment/task_1/data/animals10classes/ant/image_0032.jpg\n",
            "/Users/jayotsana/Documents/coding_assignment/task_1/data/animals10classes/ant/image_0026.jpg\n",
            "/Users/jayotsana/Documents/coding_assignment/task_1/data/animals10classes/ant/image_0027.jpg\n",
            "/Users/jayotsana/Documents/coding_assignment/task_1/data/animals10classes/ant/image_0033.jpg\n",
            "/Users/jayotsana/Documents/coding_assignment/task_1/data/animals10classes/ant/image_0019.jpg\n",
            "/Users/jayotsana/Documents/coding_assignment/task_1/data/animals10classes/ant/image_0025.jpg\n",
            "/Users/jayotsana/Documents/coding_assignment/task_1/data/animals10classes/ant/image_0031.jpg\n",
            "/Users/jayotsana/Documents/coding_assignment/task_1/data/animals10classes/ant/image_0030.jpg\n",
            "/Users/jayotsana/Documents/coding_assignment/task_1/data/animals10classes/ant/image_0024.jpg\n",
            "/Users/jayotsana/Documents/coding_assignment/task_1/data/animals10classes/ant/image_0018.jpg\n",
            "/Users/jayotsana/Documents/coding_assignment/task_1/data/animals10classes/ant/image_0020.jpg\n",
            "/Users/jayotsana/Documents/coding_assignment/task_1/data/animals10classes/ant/image_0034.jpg\n",
            "/Users/jayotsana/Documents/coding_assignment/task_1/data/animals10classes/ant/image_0008.jpg\n",
            "/Users/jayotsana/Documents/coding_assignment/task_1/data/animals10classes/ant/image_0009.jpg\n",
            "/Users/jayotsana/Documents/coding_assignment/task_1/data/animals10classes/ant/image_0035.jpg\n",
            "/Users/jayotsana/Documents/coding_assignment/task_1/data/animals10classes/ant/image_0021.jpg\n",
            "/Users/jayotsana/Documents/coding_assignment/task_1/data/animals10classes/ant/image_0037.jpg\n",
            "/Users/jayotsana/Documents/coding_assignment/task_1/data/animals10classes/ant/image_0023.jpg\n",
            "/Users/jayotsana/Documents/coding_assignment/task_1/data/animals10classes/ant/image_0022.jpg\n",
            "/Users/jayotsana/Documents/coding_assignment/task_1/data/animals10classes/ant/image_0036.jpg\n",
            "/Users/jayotsana/Documents/coding_assignment/task_1/data/animals10classes/ant/image_0042.jpg\n",
            "/Users/jayotsana/Documents/coding_assignment/task_1/data/animals10classes/ant/image_0040.jpg\n",
            "/Users/jayotsana/Documents/coding_assignment/task_1/data/animals10classes/ant/image_0041.jpg\n",
            "/Users/jayotsana/Documents/coding_assignment/task_1/data/animals10classes/ant/image_0013.jpg\n",
            "/Users/jayotsana/Documents/coding_assignment/task_1/data/animals10classes/ant/image_0007.jpg\n",
            "/Users/jayotsana/Documents/coding_assignment/task_1/data/animals10classes/ant/image_0006.jpg\n",
            "/Users/jayotsana/Documents/coding_assignment/task_1/data/animals10classes/ant/image_0012.jpg\n",
            "/Users/jayotsana/Documents/coding_assignment/task_1/data/animals10classes/ant/image_0038.jpg\n",
            "/Users/jayotsana/Documents/coding_assignment/task_1/data/animals10classes/ant/image_0004.jpg\n",
            "/Users/jayotsana/Documents/coding_assignment/task_1/data/animals10classes/ant/image_0010.jpg\n",
            "/Users/jayotsana/Documents/coding_assignment/task_1/data/animals10classes/ant/image_0011.jpg\n",
            "/Users/jayotsana/Documents/coding_assignment/task_1/data/animals10classes/ant/image_0005.jpg\n",
            "/Users/jayotsana/Documents/coding_assignment/task_1/data/animals10classes/ant/image_0039.jpg\n",
            "/Users/jayotsana/Documents/coding_assignment/task_1/data/animals10classes/ant/image_0001.jpg\n",
            "/Users/jayotsana/Documents/coding_assignment/task_1/data/animals10classes/ant/image_0015.jpg\n",
            "/Users/jayotsana/Documents/coding_assignment/task_1/data/animals10classes/ant/image_0029.jpg\n",
            "/Users/jayotsana/Documents/coding_assignment/task_1/data/animals10classes/ant/image_0028.jpg\n",
            "/Users/jayotsana/Documents/coding_assignment/task_1/data/animals10classes/ant/image_0014.jpg\n",
            "/Users/jayotsana/Documents/coding_assignment/task_1/data/animals10classes/ant/image_0016.jpg\n",
            "/Users/jayotsana/Documents/coding_assignment/task_1/data/animals10classes/ant/image_0002.jpg\n",
            "/Users/jayotsana/Documents/coding_assignment/task_1/data/animals10classes/ant/image_0003.jpg\n",
            "/Users/jayotsana/Documents/coding_assignment/task_1/data/animals10classes/ant/image_0017.jpg\n",
            "/Users/jayotsana/Documents/coding_assignment/task_1/data/animals10classes/butterfly/image_0032.jpg\n",
            "/Users/jayotsana/Documents/coding_assignment/task_1/data/animals10classes/butterfly/image_0026.jpg\n",
            "/Users/jayotsana/Documents/coding_assignment/task_1/data/animals10classes/butterfly/image_0027.jpg\n",
            "/Users/jayotsana/Documents/coding_assignment/task_1/data/animals10classes/butterfly/image_0033.jpg\n",
            "/Users/jayotsana/Documents/coding_assignment/task_1/data/animals10classes/butterfly/image_0019.jpg\n",
            "/Users/jayotsana/Documents/coding_assignment/task_1/data/animals10classes/butterfly/image_0025.jpg\n",
            "/Users/jayotsana/Documents/coding_assignment/task_1/data/animals10classes/butterfly/image_0031.jpg\n",
            "/Users/jayotsana/Documents/coding_assignment/task_1/data/animals10classes/butterfly/image_0030.jpg\n",
            "/Users/jayotsana/Documents/coding_assignment/task_1/data/animals10classes/butterfly/image_0024.jpg\n",
            "/Users/jayotsana/Documents/coding_assignment/task_1/data/animals10classes/butterfly/image_0018.jpg\n",
            "/Users/jayotsana/Documents/coding_assignment/task_1/data/animals10classes/butterfly/image_0020.jpg\n",
            "/Users/jayotsana/Documents/coding_assignment/task_1/data/animals10classes/butterfly/image_0034.jpg\n",
            "/Users/jayotsana/Documents/coding_assignment/task_1/data/animals10classes/butterfly/image_0008.jpg\n",
            "/Users/jayotsana/Documents/coding_assignment/task_1/data/animals10classes/butterfly/image_0009.jpg\n",
            "/Users/jayotsana/Documents/coding_assignment/task_1/data/animals10classes/butterfly/image_0035.jpg\n",
            "/Users/jayotsana/Documents/coding_assignment/task_1/data/animals10classes/butterfly/image_0021.jpg\n",
            "/Users/jayotsana/Documents/coding_assignment/task_1/data/animals10classes/butterfly/image_0037.jpg\n",
            "/Users/jayotsana/Documents/coding_assignment/task_1/data/animals10classes/butterfly/image_0023.jpg\n",
            "/Users/jayotsana/Documents/coding_assignment/task_1/data/animals10classes/butterfly/image_0022.jpg\n",
            "/Users/jayotsana/Documents/coding_assignment/task_1/data/animals10classes/butterfly/image_0036.jpg\n",
            "/Users/jayotsana/Documents/coding_assignment/task_1/data/animals10classes/butterfly/image_0079.jpg\n",
            "/Users/jayotsana/Documents/coding_assignment/task_1/data/animals10classes/butterfly/image_0051.jpg\n",
            "/Users/jayotsana/Documents/coding_assignment/task_1/data/animals10classes/butterfly/image_0045.jpg\n",
            "/Users/jayotsana/Documents/coding_assignment/task_1/data/animals10classes/butterfly/image_0086.jpg\n",
            "/Users/jayotsana/Documents/coding_assignment/task_1/data/animals10classes/butterfly/image_0087.jpg\n",
            "/Users/jayotsana/Documents/coding_assignment/task_1/data/animals10classes/butterfly/image_0044.jpg\n",
            "/Users/jayotsana/Documents/coding_assignment/task_1/data/animals10classes/butterfly/image_0050.jpg\n",
            "/Users/jayotsana/Documents/coding_assignment/task_1/data/animals10classes/butterfly/image_0078.jpg\n",
            "/Users/jayotsana/Documents/coding_assignment/task_1/data/animals10classes/butterfly/image_0046.jpg\n",
            "/Users/jayotsana/Documents/coding_assignment/task_1/data/animals10classes/butterfly/image_0052.jpg\n",
            "/Users/jayotsana/Documents/coding_assignment/task_1/data/animals10classes/butterfly/image_0085.jpg\n",
            "/Users/jayotsana/Documents/coding_assignment/task_1/data/animals10classes/butterfly/image_0091.jpg\n",
            "/Users/jayotsana/Documents/coding_assignment/task_1/data/animals10classes/butterfly/image_0090.jpg\n",
            "/Users/jayotsana/Documents/coding_assignment/task_1/data/animals10classes/butterfly/image_0084.jpg\n",
            "/Users/jayotsana/Documents/coding_assignment/task_1/data/animals10classes/butterfly/image_0053.jpg\n",
            "/Users/jayotsana/Documents/coding_assignment/task_1/data/animals10classes/butterfly/image_0047.jpg\n",
            "/Users/jayotsana/Documents/coding_assignment/task_1/data/animals10classes/butterfly/image_0043.jpg\n",
            "/Users/jayotsana/Documents/coding_assignment/task_1/data/animals10classes/butterfly/image_0057.jpg\n",
            "/Users/jayotsana/Documents/coding_assignment/task_1/data/animals10classes/butterfly/image_0080.jpg\n",
            "/Users/jayotsana/Documents/coding_assignment/task_1/data/animals10classes/butterfly/image_0081.jpg\n",
            "/Users/jayotsana/Documents/coding_assignment/task_1/data/animals10classes/butterfly/image_0056.jpg\n",
            "/Users/jayotsana/Documents/coding_assignment/task_1/data/animals10classes/butterfly/image_0042.jpg\n",
            "/Users/jayotsana/Documents/coding_assignment/task_1/data/animals10classes/butterfly/image_0054.jpg\n",
            "/Users/jayotsana/Documents/coding_assignment/task_1/data/animals10classes/butterfly/image_0040.jpg\n",
            "/Users/jayotsana/Documents/coding_assignment/task_1/data/animals10classes/butterfly/image_0068.jpg\n",
            "/Users/jayotsana/Documents/coding_assignment/task_1/data/animals10classes/butterfly/image_0083.jpg\n",
            "/Users/jayotsana/Documents/coding_assignment/task_1/data/animals10classes/butterfly/image_0082.jpg\n",
            "/Users/jayotsana/Documents/coding_assignment/task_1/data/animals10classes/butterfly/image_0069.jpg\n",
            "/Users/jayotsana/Documents/coding_assignment/task_1/data/animals10classes/butterfly/image_0041.jpg\n",
            "/Users/jayotsana/Documents/coding_assignment/task_1/data/animals10classes/butterfly/image_0055.jpg\n",
            "/Users/jayotsana/Documents/coding_assignment/task_1/data/animals10classes/butterfly/image_0058.jpg\n",
            "/Users/jayotsana/Documents/coding_assignment/task_1/data/animals10classes/butterfly/image_0070.jpg\n",
            "/Users/jayotsana/Documents/coding_assignment/task_1/data/animals10classes/butterfly/image_0064.jpg\n",
            "/Users/jayotsana/Documents/coding_assignment/task_1/data/animals10classes/butterfly/image_0065.jpg\n",
            "/Users/jayotsana/Documents/coding_assignment/task_1/data/animals10classes/butterfly/image_0071.jpg\n",
            "/Users/jayotsana/Documents/coding_assignment/task_1/data/animals10classes/butterfly/image_0059.jpg\n",
            "/Users/jayotsana/Documents/coding_assignment/task_1/data/animals10classes/butterfly/image_0067.jpg\n",
            "/Users/jayotsana/Documents/coding_assignment/task_1/data/animals10classes/butterfly/image_0073.jpg\n",
            "/Users/jayotsana/Documents/coding_assignment/task_1/data/animals10classes/butterfly/image_0072.jpg\n",
            "/Users/jayotsana/Documents/coding_assignment/task_1/data/animals10classes/butterfly/image_0066.jpg\n",
            "/Users/jayotsana/Documents/coding_assignment/task_1/data/animals10classes/butterfly/image_0062.jpg\n",
            "/Users/jayotsana/Documents/coding_assignment/task_1/data/animals10classes/butterfly/image_0076.jpg\n",
            "/Users/jayotsana/Documents/coding_assignment/task_1/data/animals10classes/butterfly/image_0089.jpg\n",
            "/Users/jayotsana/Documents/coding_assignment/task_1/data/animals10classes/butterfly/image_0088.jpg\n",
            "/Users/jayotsana/Documents/coding_assignment/task_1/data/animals10classes/butterfly/image_0077.jpg\n",
            "/Users/jayotsana/Documents/coding_assignment/task_1/data/animals10classes/butterfly/image_0063.jpg\n",
            "/Users/jayotsana/Documents/coding_assignment/task_1/data/animals10classes/butterfly/image_0075.jpg\n",
            "/Users/jayotsana/Documents/coding_assignment/task_1/data/animals10classes/butterfly/image_0061.jpg\n",
            "/Users/jayotsana/Documents/coding_assignment/task_1/data/animals10classes/butterfly/image_0049.jpg\n",
            "/Users/jayotsana/Documents/coding_assignment/task_1/data/animals10classes/butterfly/image_0048.jpg\n",
            "/Users/jayotsana/Documents/coding_assignment/task_1/data/animals10classes/butterfly/image_0060.jpg\n",
            "/Users/jayotsana/Documents/coding_assignment/task_1/data/animals10classes/butterfly/image_0074.jpg\n",
            "/Users/jayotsana/Documents/coding_assignment/task_1/data/animals10classes/butterfly/image_0013.jpg\n",
            "/Users/jayotsana/Documents/coding_assignment/task_1/data/animals10classes/butterfly/image_0007.jpg\n",
            "/Users/jayotsana/Documents/coding_assignment/task_1/data/animals10classes/butterfly/image_0006.jpg\n",
            "/Users/jayotsana/Documents/coding_assignment/task_1/data/animals10classes/butterfly/image_0012.jpg\n",
            "/Users/jayotsana/Documents/coding_assignment/task_1/data/animals10classes/butterfly/image_0038.jpg\n",
            "/Users/jayotsana/Documents/coding_assignment/task_1/data/animals10classes/butterfly/image_0004.jpg\n",
            "/Users/jayotsana/Documents/coding_assignment/task_1/data/animals10classes/butterfly/image_0010.jpg\n",
            "/Users/jayotsana/Documents/coding_assignment/task_1/data/animals10classes/butterfly/image_0011.jpg\n",
            "/Users/jayotsana/Documents/coding_assignment/task_1/data/animals10classes/butterfly/image_0005.jpg\n",
            "/Users/jayotsana/Documents/coding_assignment/task_1/data/animals10classes/butterfly/image_0039.jpg\n",
            "/Users/jayotsana/Documents/coding_assignment/task_1/data/animals10classes/butterfly/image_0001.jpg\n",
            "/Users/jayotsana/Documents/coding_assignment/task_1/data/animals10classes/butterfly/image_0015.jpg\n",
            "/Users/jayotsana/Documents/coding_assignment/task_1/data/animals10classes/butterfly/image_0029.jpg\n",
            "/Users/jayotsana/Documents/coding_assignment/task_1/data/animals10classes/butterfly/image_0028.jpg\n",
            "/Users/jayotsana/Documents/coding_assignment/task_1/data/animals10classes/butterfly/image_0014.jpg\n",
            "/Users/jayotsana/Documents/coding_assignment/task_1/data/animals10classes/butterfly/image_0016.jpg\n",
            "/Users/jayotsana/Documents/coding_assignment/task_1/data/animals10classes/butterfly/image_0002.jpg\n",
            "/Users/jayotsana/Documents/coding_assignment/task_1/data/animals10classes/butterfly/image_0003.jpg\n",
            "/Users/jayotsana/Documents/coding_assignment/task_1/data/animals10classes/butterfly/image_0017.jpg\n",
            "/Users/jayotsana/Documents/coding_assignment/task_1/data/animals10classes/dragonfly/image_0032.jpg\n",
            "/Users/jayotsana/Documents/coding_assignment/task_1/data/animals10classes/dragonfly/image_0026.jpg\n",
            "/Users/jayotsana/Documents/coding_assignment/task_1/data/animals10classes/dragonfly/image_0027.jpg\n",
            "/Users/jayotsana/Documents/coding_assignment/task_1/data/animals10classes/dragonfly/image_0033.jpg\n",
            "/Users/jayotsana/Documents/coding_assignment/task_1/data/animals10classes/dragonfly/image_0019.jpg\n",
            "/Users/jayotsana/Documents/coding_assignment/task_1/data/animals10classes/dragonfly/image_0025.jpg\n",
            "/Users/jayotsana/Documents/coding_assignment/task_1/data/animals10classes/dragonfly/image_0031.jpg\n",
            "/Users/jayotsana/Documents/coding_assignment/task_1/data/animals10classes/dragonfly/image_0030.jpg\n",
            "/Users/jayotsana/Documents/coding_assignment/task_1/data/animals10classes/dragonfly/image_0024.jpg\n",
            "/Users/jayotsana/Documents/coding_assignment/task_1/data/animals10classes/dragonfly/image_0018.jpg\n",
            "/Users/jayotsana/Documents/coding_assignment/task_1/data/animals10classes/dragonfly/image_0020.jpg\n",
            "/Users/jayotsana/Documents/coding_assignment/task_1/data/animals10classes/dragonfly/image_0034.jpg\n",
            "/Users/jayotsana/Documents/coding_assignment/task_1/data/animals10classes/dragonfly/image_0008.jpg\n",
            "/Users/jayotsana/Documents/coding_assignment/task_1/data/animals10classes/dragonfly/image_0009.jpg\n",
            "/Users/jayotsana/Documents/coding_assignment/task_1/data/animals10classes/dragonfly/image_0035.jpg\n",
            "/Users/jayotsana/Documents/coding_assignment/task_1/data/animals10classes/dragonfly/image_0021.jpg\n",
            "/Users/jayotsana/Documents/coding_assignment/task_1/data/animals10classes/dragonfly/image_0037.jpg\n",
            "/Users/jayotsana/Documents/coding_assignment/task_1/data/animals10classes/dragonfly/image_0023.jpg\n",
            "/Users/jayotsana/Documents/coding_assignment/task_1/data/animals10classes/dragonfly/image_0022.jpg\n",
            "/Users/jayotsana/Documents/coding_assignment/task_1/data/animals10classes/dragonfly/image_0036.jpg\n",
            "/Users/jayotsana/Documents/coding_assignment/task_1/data/animals10classes/dragonfly/image_0051.jpg\n",
            "/Users/jayotsana/Documents/coding_assignment/task_1/data/animals10classes/dragonfly/image_0045.jpg\n",
            "/Users/jayotsana/Documents/coding_assignment/task_1/data/animals10classes/dragonfly/image_0044.jpg\n",
            "/Users/jayotsana/Documents/coding_assignment/task_1/data/animals10classes/dragonfly/image_0050.jpg\n",
            "/Users/jayotsana/Documents/coding_assignment/task_1/data/animals10classes/dragonfly/image_0046.jpg\n",
            "/Users/jayotsana/Documents/coding_assignment/task_1/data/animals10classes/dragonfly/image_0052.jpg\n",
            "/Users/jayotsana/Documents/coding_assignment/task_1/data/animals10classes/dragonfly/image_0053.jpg\n",
            "/Users/jayotsana/Documents/coding_assignment/task_1/data/animals10classes/dragonfly/image_0047.jpg\n",
            "/Users/jayotsana/Documents/coding_assignment/task_1/data/animals10classes/dragonfly/image_0043.jpg\n",
            "/Users/jayotsana/Documents/coding_assignment/task_1/data/animals10classes/dragonfly/image_0057.jpg\n",
            "/Users/jayotsana/Documents/coding_assignment/task_1/data/animals10classes/dragonfly/image_0056.jpg\n",
            "/Users/jayotsana/Documents/coding_assignment/task_1/data/animals10classes/dragonfly/image_0042.jpg\n",
            "/Users/jayotsana/Documents/coding_assignment/task_1/data/animals10classes/dragonfly/image_0054.jpg\n",
            "/Users/jayotsana/Documents/coding_assignment/task_1/data/animals10classes/dragonfly/image_0040.jpg\n",
            "/Users/jayotsana/Documents/coding_assignment/task_1/data/animals10classes/dragonfly/image_0068.jpg\n",
            "/Users/jayotsana/Documents/coding_assignment/task_1/data/animals10classes/dragonfly/image_0041.jpg\n",
            "/Users/jayotsana/Documents/coding_assignment/task_1/data/animals10classes/dragonfly/image_0055.jpg\n",
            "/Users/jayotsana/Documents/coding_assignment/task_1/data/animals10classes/dragonfly/image_0058.jpg\n",
            "/Users/jayotsana/Documents/coding_assignment/task_1/data/animals10classes/dragonfly/image_0064.jpg\n",
            "/Users/jayotsana/Documents/coding_assignment/task_1/data/animals10classes/dragonfly/image_0065.jpg\n",
            "/Users/jayotsana/Documents/coding_assignment/task_1/data/animals10classes/dragonfly/image_0059.jpg\n",
            "/Users/jayotsana/Documents/coding_assignment/task_1/data/animals10classes/dragonfly/image_0067.jpg\n",
            "/Users/jayotsana/Documents/coding_assignment/task_1/data/animals10classes/dragonfly/image_0066.jpg\n",
            "/Users/jayotsana/Documents/coding_assignment/task_1/data/animals10classes/dragonfly/image_0062.jpg\n",
            "/Users/jayotsana/Documents/coding_assignment/task_1/data/animals10classes/dragonfly/image_0063.jpg\n",
            "/Users/jayotsana/Documents/coding_assignment/task_1/data/animals10classes/dragonfly/image_0061.jpg\n",
            "/Users/jayotsana/Documents/coding_assignment/task_1/data/animals10classes/dragonfly/image_0049.jpg\n",
            "/Users/jayotsana/Documents/coding_assignment/task_1/data/animals10classes/dragonfly/image_0048.jpg\n",
            "/Users/jayotsana/Documents/coding_assignment/task_1/data/animals10classes/dragonfly/image_0060.jpg\n",
            "/Users/jayotsana/Documents/coding_assignment/task_1/data/animals10classes/dragonfly/image_0013.jpg\n",
            "/Users/jayotsana/Documents/coding_assignment/task_1/data/animals10classes/dragonfly/image_0007.jpg\n",
            "/Users/jayotsana/Documents/coding_assignment/task_1/data/animals10classes/dragonfly/image_0006.jpg\n",
            "/Users/jayotsana/Documents/coding_assignment/task_1/data/animals10classes/dragonfly/image_0012.jpg\n",
            "/Users/jayotsana/Documents/coding_assignment/task_1/data/animals10classes/dragonfly/image_0038.jpg\n",
            "/Users/jayotsana/Documents/coding_assignment/task_1/data/animals10classes/dragonfly/image_0004.jpg\n",
            "/Users/jayotsana/Documents/coding_assignment/task_1/data/animals10classes/dragonfly/image_0010.jpg\n",
            "/Users/jayotsana/Documents/coding_assignment/task_1/data/animals10classes/dragonfly/image_0011.jpg\n",
            "/Users/jayotsana/Documents/coding_assignment/task_1/data/animals10classes/dragonfly/image_0005.jpg\n",
            "/Users/jayotsana/Documents/coding_assignment/task_1/data/animals10classes/dragonfly/image_0039.jpg\n",
            "/Users/jayotsana/Documents/coding_assignment/task_1/data/animals10classes/dragonfly/image_0001.jpg\n",
            "/Users/jayotsana/Documents/coding_assignment/task_1/data/animals10classes/dragonfly/image_0015.jpg\n",
            "/Users/jayotsana/Documents/coding_assignment/task_1/data/animals10classes/dragonfly/image_0029.jpg\n",
            "/Users/jayotsana/Documents/coding_assignment/task_1/data/animals10classes/dragonfly/image_0028.jpg\n",
            "/Users/jayotsana/Documents/coding_assignment/task_1/data/animals10classes/dragonfly/image_0014.jpg\n",
            "/Users/jayotsana/Documents/coding_assignment/task_1/data/animals10classes/dragonfly/image_0016.jpg\n",
            "/Users/jayotsana/Documents/coding_assignment/task_1/data/animals10classes/dragonfly/image_0002.jpg\n",
            "/Users/jayotsana/Documents/coding_assignment/task_1/data/animals10classes/dragonfly/image_0003.jpg\n",
            "/Users/jayotsana/Documents/coding_assignment/task_1/data/animals10classes/dragonfly/image_0017.jpg\n",
            "/Users/jayotsana/Documents/coding_assignment/task_1/data/animals10classes/lobster/image_0032.jpg\n",
            "/Users/jayotsana/Documents/coding_assignment/task_1/data/animals10classes/lobster/image_0026.jpg\n",
            "/Users/jayotsana/Documents/coding_assignment/task_1/data/animals10classes/lobster/image_0027.jpg\n",
            "/Users/jayotsana/Documents/coding_assignment/task_1/data/animals10classes/lobster/image_0033.jpg\n",
            "/Users/jayotsana/Documents/coding_assignment/task_1/data/animals10classes/lobster/image_0019.jpg\n",
            "/Users/jayotsana/Documents/coding_assignment/task_1/data/animals10classes/lobster/image_0025.jpg\n",
            "/Users/jayotsana/Documents/coding_assignment/task_1/data/animals10classes/lobster/image_0031.jpg\n",
            "/Users/jayotsana/Documents/coding_assignment/task_1/data/animals10classes/lobster/image_0030.jpg\n",
            "/Users/jayotsana/Documents/coding_assignment/task_1/data/animals10classes/lobster/image_0024.jpg\n",
            "/Users/jayotsana/Documents/coding_assignment/task_1/data/animals10classes/lobster/image_0018.jpg\n",
            "/Users/jayotsana/Documents/coding_assignment/task_1/data/animals10classes/lobster/image_0020.jpg\n",
            "/Users/jayotsana/Documents/coding_assignment/task_1/data/animals10classes/lobster/image_0034.jpg\n",
            "/Users/jayotsana/Documents/coding_assignment/task_1/data/animals10classes/lobster/image_0008.jpg\n",
            "/Users/jayotsana/Documents/coding_assignment/task_1/data/animals10classes/lobster/image_0009.jpg\n",
            "/Users/jayotsana/Documents/coding_assignment/task_1/data/animals10classes/lobster/image_0035.jpg\n",
            "/Users/jayotsana/Documents/coding_assignment/task_1/data/animals10classes/lobster/image_0021.jpg\n",
            "/Users/jayotsana/Documents/coding_assignment/task_1/data/animals10classes/lobster/image_0037.jpg\n",
            "/Users/jayotsana/Documents/coding_assignment/task_1/data/animals10classes/lobster/image_0023.jpg\n",
            "/Users/jayotsana/Documents/coding_assignment/task_1/data/animals10classes/lobster/image_0022.jpg\n",
            "/Users/jayotsana/Documents/coding_assignment/task_1/data/animals10classes/lobster/image_0036.jpg\n",
            "/Users/jayotsana/Documents/coding_assignment/task_1/data/animals10classes/lobster/image_0040.jpg\n",
            "/Users/jayotsana/Documents/coding_assignment/task_1/data/animals10classes/lobster/image_0041.jpg\n",
            "/Users/jayotsana/Documents/coding_assignment/task_1/data/animals10classes/lobster/image_0013.jpg\n",
            "/Users/jayotsana/Documents/coding_assignment/task_1/data/animals10classes/lobster/image_0007.jpg\n",
            "/Users/jayotsana/Documents/coding_assignment/task_1/data/animals10classes/lobster/image_0006.jpg\n",
            "/Users/jayotsana/Documents/coding_assignment/task_1/data/animals10classes/lobster/image_0012.jpg\n",
            "/Users/jayotsana/Documents/coding_assignment/task_1/data/animals10classes/lobster/image_0038.jpg\n",
            "/Users/jayotsana/Documents/coding_assignment/task_1/data/animals10classes/lobster/image_0004.jpg\n",
            "/Users/jayotsana/Documents/coding_assignment/task_1/data/animals10classes/lobster/image_0010.jpg\n",
            "/Users/jayotsana/Documents/coding_assignment/task_1/data/animals10classes/lobster/image_0011.jpg\n",
            "/Users/jayotsana/Documents/coding_assignment/task_1/data/animals10classes/lobster/image_0005.jpg\n",
            "/Users/jayotsana/Documents/coding_assignment/task_1/data/animals10classes/lobster/image_0039.jpg\n",
            "/Users/jayotsana/Documents/coding_assignment/task_1/data/animals10classes/lobster/image_0001.jpg\n",
            "/Users/jayotsana/Documents/coding_assignment/task_1/data/animals10classes/lobster/image_0015.jpg\n",
            "/Users/jayotsana/Documents/coding_assignment/task_1/data/animals10classes/lobster/image_0029.jpg\n",
            "/Users/jayotsana/Documents/coding_assignment/task_1/data/animals10classes/lobster/image_0028.jpg\n",
            "/Users/jayotsana/Documents/coding_assignment/task_1/data/animals10classes/lobster/image_0014.jpg\n",
            "/Users/jayotsana/Documents/coding_assignment/task_1/data/animals10classes/lobster/image_0016.jpg\n",
            "/Users/jayotsana/Documents/coding_assignment/task_1/data/animals10classes/lobster/image_0002.jpg\n",
            "/Users/jayotsana/Documents/coding_assignment/task_1/data/animals10classes/lobster/image_0003.jpg\n",
            "/Users/jayotsana/Documents/coding_assignment/task_1/data/animals10classes/lobster/image_0017.jpg\n",
            "/Users/jayotsana/Documents/coding_assignment/task_1/data/animals10classes/crocodile/image_0032.jpg\n",
            "/Users/jayotsana/Documents/coding_assignment/task_1/data/animals10classes/crocodile/image_0026.jpg\n",
            "/Users/jayotsana/Documents/coding_assignment/task_1/data/animals10classes/crocodile/image_0027.jpg\n",
            "/Users/jayotsana/Documents/coding_assignment/task_1/data/animals10classes/crocodile/image_0033.jpg\n",
            "/Users/jayotsana/Documents/coding_assignment/task_1/data/animals10classes/crocodile/image_0019.jpg\n",
            "/Users/jayotsana/Documents/coding_assignment/task_1/data/animals10classes/crocodile/image_0025.jpg\n",
            "/Users/jayotsana/Documents/coding_assignment/task_1/data/animals10classes/crocodile/image_0031.jpg\n",
            "/Users/jayotsana/Documents/coding_assignment/task_1/data/animals10classes/crocodile/image_0030.jpg\n",
            "/Users/jayotsana/Documents/coding_assignment/task_1/data/animals10classes/crocodile/image_0024.jpg\n",
            "/Users/jayotsana/Documents/coding_assignment/task_1/data/animals10classes/crocodile/image_0018.jpg\n",
            "/Users/jayotsana/Documents/coding_assignment/task_1/data/animals10classes/crocodile/image_0020.jpg\n",
            "/Users/jayotsana/Documents/coding_assignment/task_1/data/animals10classes/crocodile/image_0034.jpg\n",
            "/Users/jayotsana/Documents/coding_assignment/task_1/data/animals10classes/crocodile/image_0008.jpg\n",
            "/Users/jayotsana/Documents/coding_assignment/task_1/data/animals10classes/crocodile/image_0009.jpg\n",
            "/Users/jayotsana/Documents/coding_assignment/task_1/data/animals10classes/crocodile/image_0035.jpg\n",
            "/Users/jayotsana/Documents/coding_assignment/task_1/data/animals10classes/crocodile/image_0021.jpg\n",
            "/Users/jayotsana/Documents/coding_assignment/task_1/data/animals10classes/crocodile/image_0037.jpg\n",
            "/Users/jayotsana/Documents/coding_assignment/task_1/data/animals10classes/crocodile/image_0023.jpg\n",
            "/Users/jayotsana/Documents/coding_assignment/task_1/data/animals10classes/crocodile/image_0022.jpg\n",
            "/Users/jayotsana/Documents/coding_assignment/task_1/data/animals10classes/crocodile/image_0036.jpg\n",
            "/Users/jayotsana/Documents/coding_assignment/task_1/data/animals10classes/crocodile/image_0045.jpg\n",
            "/Users/jayotsana/Documents/coding_assignment/task_1/data/animals10classes/crocodile/image_0044.jpg\n",
            "/Users/jayotsana/Documents/coding_assignment/task_1/data/animals10classes/crocodile/image_0050.jpg\n",
            "/Users/jayotsana/Documents/coding_assignment/task_1/data/animals10classes/crocodile/image_0046.jpg\n",
            "/Users/jayotsana/Documents/coding_assignment/task_1/data/animals10classes/crocodile/image_0047.jpg\n",
            "/Users/jayotsana/Documents/coding_assignment/task_1/data/animals10classes/crocodile/image_0043.jpg\n",
            "/Users/jayotsana/Documents/coding_assignment/task_1/data/animals10classes/crocodile/image_0042.jpg\n",
            "/Users/jayotsana/Documents/coding_assignment/task_1/data/animals10classes/crocodile/image_0040.jpg\n",
            "/Users/jayotsana/Documents/coding_assignment/task_1/data/animals10classes/crocodile/image_0041.jpg\n",
            "/Users/jayotsana/Documents/coding_assignment/task_1/data/animals10classes/crocodile/image_0049.jpg\n",
            "/Users/jayotsana/Documents/coding_assignment/task_1/data/animals10classes/crocodile/image_0048.jpg\n",
            "/Users/jayotsana/Documents/coding_assignment/task_1/data/animals10classes/crocodile/image_0013.jpg\n",
            "/Users/jayotsana/Documents/coding_assignment/task_1/data/animals10classes/crocodile/image_0007.jpg\n",
            "/Users/jayotsana/Documents/coding_assignment/task_1/data/animals10classes/crocodile/image_0006.jpg\n",
            "/Users/jayotsana/Documents/coding_assignment/task_1/data/animals10classes/crocodile/image_0012.jpg\n",
            "/Users/jayotsana/Documents/coding_assignment/task_1/data/animals10classes/crocodile/image_0038.jpg\n",
            "/Users/jayotsana/Documents/coding_assignment/task_1/data/animals10classes/crocodile/image_0004.jpg\n",
            "/Users/jayotsana/Documents/coding_assignment/task_1/data/animals10classes/crocodile/image_0010.jpg\n",
            "/Users/jayotsana/Documents/coding_assignment/task_1/data/animals10classes/crocodile/image_0011.jpg\n",
            "/Users/jayotsana/Documents/coding_assignment/task_1/data/animals10classes/crocodile/image_0005.jpg\n",
            "/Users/jayotsana/Documents/coding_assignment/task_1/data/animals10classes/crocodile/image_0039.jpg\n",
            "/Users/jayotsana/Documents/coding_assignment/task_1/data/animals10classes/crocodile/image_0001.jpg\n",
            "/Users/jayotsana/Documents/coding_assignment/task_1/data/animals10classes/crocodile/image_0015.jpg\n",
            "/Users/jayotsana/Documents/coding_assignment/task_1/data/animals10classes/crocodile/image_0029.jpg\n",
            "/Users/jayotsana/Documents/coding_assignment/task_1/data/animals10classes/crocodile/image_0028.jpg\n",
            "/Users/jayotsana/Documents/coding_assignment/task_1/data/animals10classes/crocodile/image_0014.jpg\n",
            "/Users/jayotsana/Documents/coding_assignment/task_1/data/animals10classes/crocodile/image_0016.jpg\n",
            "/Users/jayotsana/Documents/coding_assignment/task_1/data/animals10classes/crocodile/image_0002.jpg\n",
            "/Users/jayotsana/Documents/coding_assignment/task_1/data/animals10classes/crocodile/image_0003.jpg\n",
            "/Users/jayotsana/Documents/coding_assignment/task_1/data/animals10classes/crocodile/image_0017.jpg\n",
            "/Users/jayotsana/Documents/coding_assignment/task_1/data/animals10classes/starfish/image_0032.jpg\n",
            "/Users/jayotsana/Documents/coding_assignment/task_1/data/animals10classes/starfish/image_0026.jpg\n",
            "/Users/jayotsana/Documents/coding_assignment/task_1/data/animals10classes/starfish/image_0027.jpg\n",
            "/Users/jayotsana/Documents/coding_assignment/task_1/data/animals10classes/starfish/image_0033.jpg\n",
            "/Users/jayotsana/Documents/coding_assignment/task_1/data/animals10classes/starfish/image_0019.jpg\n",
            "/Users/jayotsana/Documents/coding_assignment/task_1/data/animals10classes/starfish/image_0025.jpg\n",
            "/Users/jayotsana/Documents/coding_assignment/task_1/data/animals10classes/starfish/image_0031.jpg\n",
            "/Users/jayotsana/Documents/coding_assignment/task_1/data/animals10classes/starfish/image_0030.jpg\n",
            "/Users/jayotsana/Documents/coding_assignment/task_1/data/animals10classes/starfish/image_0024.jpg\n",
            "/Users/jayotsana/Documents/coding_assignment/task_1/data/animals10classes/starfish/image_0018.jpg\n",
            "/Users/jayotsana/Documents/coding_assignment/task_1/data/animals10classes/starfish/image_0020.jpg\n",
            "/Users/jayotsana/Documents/coding_assignment/task_1/data/animals10classes/starfish/image_0034.jpg\n",
            "/Users/jayotsana/Documents/coding_assignment/task_1/data/animals10classes/starfish/image_0008.jpg\n",
            "/Users/jayotsana/Documents/coding_assignment/task_1/data/animals10classes/starfish/image_0009.jpg\n",
            "/Users/jayotsana/Documents/coding_assignment/task_1/data/animals10classes/starfish/image_0035.jpg\n",
            "/Users/jayotsana/Documents/coding_assignment/task_1/data/animals10classes/starfish/image_0021.jpg\n",
            "/Users/jayotsana/Documents/coding_assignment/task_1/data/animals10classes/starfish/image_0037.jpg\n",
            "/Users/jayotsana/Documents/coding_assignment/task_1/data/animals10classes/starfish/image_0023.jpg\n",
            "/Users/jayotsana/Documents/coding_assignment/task_1/data/animals10classes/starfish/image_0022.jpg\n",
            "/Users/jayotsana/Documents/coding_assignment/task_1/data/animals10classes/starfish/image_0036.jpg\n",
            "/Users/jayotsana/Documents/coding_assignment/task_1/data/animals10classes/starfish/image_0079.jpg\n",
            "/Users/jayotsana/Documents/coding_assignment/task_1/data/animals10classes/starfish/image_0051.jpg\n",
            "/Users/jayotsana/Documents/coding_assignment/task_1/data/animals10classes/starfish/image_0045.jpg\n",
            "/Users/jayotsana/Documents/coding_assignment/task_1/data/animals10classes/starfish/image_0086.jpg\n",
            "/Users/jayotsana/Documents/coding_assignment/task_1/data/animals10classes/starfish/image_0044.jpg\n",
            "/Users/jayotsana/Documents/coding_assignment/task_1/data/animals10classes/starfish/image_0050.jpg\n",
            "/Users/jayotsana/Documents/coding_assignment/task_1/data/animals10classes/starfish/image_0078.jpg\n",
            "/Users/jayotsana/Documents/coding_assignment/task_1/data/animals10classes/starfish/image_0046.jpg\n",
            "/Users/jayotsana/Documents/coding_assignment/task_1/data/animals10classes/starfish/image_0052.jpg\n",
            "/Users/jayotsana/Documents/coding_assignment/task_1/data/animals10classes/starfish/image_0085.jpg\n",
            "/Users/jayotsana/Documents/coding_assignment/task_1/data/animals10classes/starfish/image_0084.jpg\n",
            "/Users/jayotsana/Documents/coding_assignment/task_1/data/animals10classes/starfish/image_0053.jpg\n",
            "/Users/jayotsana/Documents/coding_assignment/task_1/data/animals10classes/starfish/image_0047.jpg\n",
            "/Users/jayotsana/Documents/coding_assignment/task_1/data/animals10classes/starfish/image_0043.jpg\n",
            "/Users/jayotsana/Documents/coding_assignment/task_1/data/animals10classes/starfish/image_0057.jpg\n",
            "/Users/jayotsana/Documents/coding_assignment/task_1/data/animals10classes/starfish/image_0080.jpg\n",
            "/Users/jayotsana/Documents/coding_assignment/task_1/data/animals10classes/starfish/image_0081.jpg\n",
            "/Users/jayotsana/Documents/coding_assignment/task_1/data/animals10classes/starfish/image_0056.jpg\n",
            "/Users/jayotsana/Documents/coding_assignment/task_1/data/animals10classes/starfish/image_0042.jpg\n",
            "/Users/jayotsana/Documents/coding_assignment/task_1/data/animals10classes/starfish/image_0054.jpg\n",
            "/Users/jayotsana/Documents/coding_assignment/task_1/data/animals10classes/starfish/image_0040.jpg\n",
            "/Users/jayotsana/Documents/coding_assignment/task_1/data/animals10classes/starfish/image_0068.jpg\n",
            "/Users/jayotsana/Documents/coding_assignment/task_1/data/animals10classes/starfish/image_0083.jpg\n",
            "/Users/jayotsana/Documents/coding_assignment/task_1/data/animals10classes/starfish/image_0082.jpg\n",
            "/Users/jayotsana/Documents/coding_assignment/task_1/data/animals10classes/starfish/image_0069.jpg\n",
            "/Users/jayotsana/Documents/coding_assignment/task_1/data/animals10classes/starfish/image_0041.jpg\n",
            "/Users/jayotsana/Documents/coding_assignment/task_1/data/animals10classes/starfish/image_0055.jpg\n",
            "/Users/jayotsana/Documents/coding_assignment/task_1/data/animals10classes/starfish/image_0058.jpg\n",
            "/Users/jayotsana/Documents/coding_assignment/task_1/data/animals10classes/starfish/image_0070.jpg\n",
            "/Users/jayotsana/Documents/coding_assignment/task_1/data/animals10classes/starfish/image_0064.jpg\n",
            "/Users/jayotsana/Documents/coding_assignment/task_1/data/animals10classes/starfish/image_0065.jpg\n",
            "/Users/jayotsana/Documents/coding_assignment/task_1/data/animals10classes/starfish/image_0071.jpg\n",
            "/Users/jayotsana/Documents/coding_assignment/task_1/data/animals10classes/starfish/image_0059.jpg\n",
            "/Users/jayotsana/Documents/coding_assignment/task_1/data/animals10classes/starfish/image_0067.jpg\n",
            "/Users/jayotsana/Documents/coding_assignment/task_1/data/animals10classes/starfish/image_0073.jpg\n",
            "/Users/jayotsana/Documents/coding_assignment/task_1/data/animals10classes/starfish/image_0072.jpg\n",
            "/Users/jayotsana/Documents/coding_assignment/task_1/data/animals10classes/starfish/image_0066.jpg\n",
            "/Users/jayotsana/Documents/coding_assignment/task_1/data/animals10classes/starfish/image_0062.jpg\n",
            "/Users/jayotsana/Documents/coding_assignment/task_1/data/animals10classes/starfish/image_0076.jpg\n",
            "/Users/jayotsana/Documents/coding_assignment/task_1/data/animals10classes/starfish/image_0077.jpg\n",
            "/Users/jayotsana/Documents/coding_assignment/task_1/data/animals10classes/starfish/image_0063.jpg\n",
            "/Users/jayotsana/Documents/coding_assignment/task_1/data/animals10classes/starfish/image_0075.jpg\n",
            "/Users/jayotsana/Documents/coding_assignment/task_1/data/animals10classes/starfish/image_0061.jpg\n",
            "/Users/jayotsana/Documents/coding_assignment/task_1/data/animals10classes/starfish/image_0049.jpg\n",
            "/Users/jayotsana/Documents/coding_assignment/task_1/data/animals10classes/starfish/image_0048.jpg\n",
            "/Users/jayotsana/Documents/coding_assignment/task_1/data/animals10classes/starfish/image_0060.jpg\n",
            "/Users/jayotsana/Documents/coding_assignment/task_1/data/animals10classes/starfish/image_0074.jpg\n",
            "/Users/jayotsana/Documents/coding_assignment/task_1/data/animals10classes/starfish/image_0013.jpg\n",
            "/Users/jayotsana/Documents/coding_assignment/task_1/data/animals10classes/starfish/image_0007.jpg\n",
            "/Users/jayotsana/Documents/coding_assignment/task_1/data/animals10classes/starfish/image_0006.jpg\n",
            "/Users/jayotsana/Documents/coding_assignment/task_1/data/animals10classes/starfish/image_0012.jpg\n",
            "/Users/jayotsana/Documents/coding_assignment/task_1/data/animals10classes/starfish/image_0038.jpg\n",
            "/Users/jayotsana/Documents/coding_assignment/task_1/data/animals10classes/starfish/image_0004.jpg\n",
            "/Users/jayotsana/Documents/coding_assignment/task_1/data/animals10classes/starfish/image_0010.jpg\n",
            "/Users/jayotsana/Documents/coding_assignment/task_1/data/animals10classes/starfish/image_0011.jpg\n",
            "/Users/jayotsana/Documents/coding_assignment/task_1/data/animals10classes/starfish/image_0005.jpg\n",
            "/Users/jayotsana/Documents/coding_assignment/task_1/data/animals10classes/starfish/image_0039.jpg\n",
            "/Users/jayotsana/Documents/coding_assignment/task_1/data/animals10classes/starfish/image_0001.jpg\n",
            "/Users/jayotsana/Documents/coding_assignment/task_1/data/animals10classes/starfish/image_0015.jpg\n",
            "/Users/jayotsana/Documents/coding_assignment/task_1/data/animals10classes/starfish/image_0029.jpg\n",
            "/Users/jayotsana/Documents/coding_assignment/task_1/data/animals10classes/starfish/image_0028.jpg\n",
            "/Users/jayotsana/Documents/coding_assignment/task_1/data/animals10classes/starfish/image_0014.jpg\n",
            "/Users/jayotsana/Documents/coding_assignment/task_1/data/animals10classes/starfish/image_0016.jpg\n",
            "/Users/jayotsana/Documents/coding_assignment/task_1/data/animals10classes/starfish/image_0002.jpg\n",
            "/Users/jayotsana/Documents/coding_assignment/task_1/data/animals10classes/starfish/image_0003.jpg\n",
            "/Users/jayotsana/Documents/coding_assignment/task_1/data/animals10classes/starfish/image_0017.jpg\n",
            "/Users/jayotsana/Documents/coding_assignment/task_1/data/animals10classes/octopus/image_0032.jpg\n",
            "/Users/jayotsana/Documents/coding_assignment/task_1/data/animals10classes/octopus/image_0026.jpg\n",
            "/Users/jayotsana/Documents/coding_assignment/task_1/data/animals10classes/octopus/image_0027.jpg\n",
            "/Users/jayotsana/Documents/coding_assignment/task_1/data/animals10classes/octopus/image_0033.jpg\n",
            "/Users/jayotsana/Documents/coding_assignment/task_1/data/animals10classes/octopus/image_0019.jpg\n",
            "/Users/jayotsana/Documents/coding_assignment/task_1/data/animals10classes/octopus/image_0025.jpg\n",
            "/Users/jayotsana/Documents/coding_assignment/task_1/data/animals10classes/octopus/image_0031.jpg\n",
            "/Users/jayotsana/Documents/coding_assignment/task_1/data/animals10classes/octopus/image_0030.jpg\n",
            "/Users/jayotsana/Documents/coding_assignment/task_1/data/animals10classes/octopus/image_0024.jpg\n",
            "/Users/jayotsana/Documents/coding_assignment/task_1/data/animals10classes/octopus/image_0018.jpg\n",
            "/Users/jayotsana/Documents/coding_assignment/task_1/data/animals10classes/octopus/image_0020.jpg\n",
            "/Users/jayotsana/Documents/coding_assignment/task_1/data/animals10classes/octopus/image_0034.jpg\n",
            "/Users/jayotsana/Documents/coding_assignment/task_1/data/animals10classes/octopus/image_0008.jpg\n",
            "/Users/jayotsana/Documents/coding_assignment/task_1/data/animals10classes/octopus/image_0009.jpg\n",
            "/Users/jayotsana/Documents/coding_assignment/task_1/data/animals10classes/octopus/image_0035.jpg\n",
            "/Users/jayotsana/Documents/coding_assignment/task_1/data/animals10classes/octopus/image_0021.jpg\n",
            "/Users/jayotsana/Documents/coding_assignment/task_1/data/animals10classes/octopus/image_0023.jpg\n",
            "/Users/jayotsana/Documents/coding_assignment/task_1/data/animals10classes/octopus/image_0022.jpg\n",
            "/Users/jayotsana/Documents/coding_assignment/task_1/data/animals10classes/octopus/image_0013.jpg\n",
            "/Users/jayotsana/Documents/coding_assignment/task_1/data/animals10classes/octopus/image_0007.jpg\n",
            "/Users/jayotsana/Documents/coding_assignment/task_1/data/animals10classes/octopus/image_0006.jpg\n",
            "/Users/jayotsana/Documents/coding_assignment/task_1/data/animals10classes/octopus/image_0012.jpg\n",
            "/Users/jayotsana/Documents/coding_assignment/task_1/data/animals10classes/octopus/image_0004.jpg\n",
            "/Users/jayotsana/Documents/coding_assignment/task_1/data/animals10classes/octopus/image_0010.jpg\n",
            "/Users/jayotsana/Documents/coding_assignment/task_1/data/animals10classes/octopus/image_0011.jpg\n",
            "/Users/jayotsana/Documents/coding_assignment/task_1/data/animals10classes/octopus/image_0005.jpg\n",
            "/Users/jayotsana/Documents/coding_assignment/task_1/data/animals10classes/octopus/image_0001.jpg\n",
            "/Users/jayotsana/Documents/coding_assignment/task_1/data/animals10classes/octopus/image_0015.jpg\n",
            "/Users/jayotsana/Documents/coding_assignment/task_1/data/animals10classes/octopus/image_0029.jpg\n",
            "/Users/jayotsana/Documents/coding_assignment/task_1/data/animals10classes/octopus/image_0028.jpg\n",
            "/Users/jayotsana/Documents/coding_assignment/task_1/data/animals10classes/octopus/image_0014.jpg\n",
            "/Users/jayotsana/Documents/coding_assignment/task_1/data/animals10classes/octopus/image_0016.jpg\n",
            "/Users/jayotsana/Documents/coding_assignment/task_1/data/animals10classes/octopus/image_0002.jpg\n",
            "/Users/jayotsana/Documents/coding_assignment/task_1/data/animals10classes/octopus/image_0003.jpg\n",
            "/Users/jayotsana/Documents/coding_assignment/task_1/data/animals10classes/octopus/image_0017.jpg\n",
            "/Users/jayotsana/Documents/coding_assignment/task_1/data/animals10classes/sea_horse/image_0032.jpg\n",
            "/Users/jayotsana/Documents/coding_assignment/task_1/data/animals10classes/sea_horse/image_0026.jpg\n",
            "/Users/jayotsana/Documents/coding_assignment/task_1/data/animals10classes/sea_horse/image_0027.jpg\n",
            "/Users/jayotsana/Documents/coding_assignment/task_1/data/animals10classes/sea_horse/image_0033.jpg\n",
            "/Users/jayotsana/Documents/coding_assignment/task_1/data/animals10classes/sea_horse/image_0019.jpg\n",
            "/Users/jayotsana/Documents/coding_assignment/task_1/data/animals10classes/sea_horse/image_0025.jpg\n",
            "/Users/jayotsana/Documents/coding_assignment/task_1/data/animals10classes/sea_horse/image_0031.jpg\n",
            "/Users/jayotsana/Documents/coding_assignment/task_1/data/animals10classes/sea_horse/image_0030.jpg\n",
            "/Users/jayotsana/Documents/coding_assignment/task_1/data/animals10classes/sea_horse/image_0024.jpg\n",
            "/Users/jayotsana/Documents/coding_assignment/task_1/data/animals10classes/sea_horse/image_0018.jpg\n",
            "/Users/jayotsana/Documents/coding_assignment/task_1/data/animals10classes/sea_horse/image_0020.jpg\n",
            "/Users/jayotsana/Documents/coding_assignment/task_1/data/animals10classes/sea_horse/image_0034.jpg\n",
            "/Users/jayotsana/Documents/coding_assignment/task_1/data/animals10classes/sea_horse/image_0008.jpg\n",
            "/Users/jayotsana/Documents/coding_assignment/task_1/data/animals10classes/sea_horse/image_0009.jpg\n",
            "/Users/jayotsana/Documents/coding_assignment/task_1/data/animals10classes/sea_horse/image_0035.jpg\n",
            "/Users/jayotsana/Documents/coding_assignment/task_1/data/animals10classes/sea_horse/image_0021.jpg\n",
            "/Users/jayotsana/Documents/coding_assignment/task_1/data/animals10classes/sea_horse/image_0037.jpg\n",
            "/Users/jayotsana/Documents/coding_assignment/task_1/data/animals10classes/sea_horse/image_0023.jpg\n",
            "/Users/jayotsana/Documents/coding_assignment/task_1/data/animals10classes/sea_horse/image_0022.jpg\n",
            "/Users/jayotsana/Documents/coding_assignment/task_1/data/animals10classes/sea_horse/image_0036.jpg\n",
            "/Users/jayotsana/Documents/coding_assignment/task_1/data/animals10classes/sea_horse/image_0051.jpg\n",
            "/Users/jayotsana/Documents/coding_assignment/task_1/data/animals10classes/sea_horse/image_0045.jpg\n",
            "/Users/jayotsana/Documents/coding_assignment/task_1/data/animals10classes/sea_horse/image_0044.jpg\n",
            "/Users/jayotsana/Documents/coding_assignment/task_1/data/animals10classes/sea_horse/image_0050.jpg\n",
            "/Users/jayotsana/Documents/coding_assignment/task_1/data/animals10classes/sea_horse/image_0046.jpg\n",
            "/Users/jayotsana/Documents/coding_assignment/task_1/data/animals10classes/sea_horse/image_0052.jpg\n",
            "/Users/jayotsana/Documents/coding_assignment/task_1/data/animals10classes/sea_horse/image_0053.jpg\n",
            "/Users/jayotsana/Documents/coding_assignment/task_1/data/animals10classes/sea_horse/image_0047.jpg\n",
            "/Users/jayotsana/Documents/coding_assignment/task_1/data/animals10classes/sea_horse/image_0043.jpg\n",
            "/Users/jayotsana/Documents/coding_assignment/task_1/data/animals10classes/sea_horse/image_0057.jpg\n",
            "/Users/jayotsana/Documents/coding_assignment/task_1/data/animals10classes/sea_horse/image_0056.jpg\n",
            "/Users/jayotsana/Documents/coding_assignment/task_1/data/animals10classes/sea_horse/image_0042.jpg\n",
            "/Users/jayotsana/Documents/coding_assignment/task_1/data/animals10classes/sea_horse/image_0054.jpg\n",
            "/Users/jayotsana/Documents/coding_assignment/task_1/data/animals10classes/sea_horse/image_0040.jpg\n",
            "/Users/jayotsana/Documents/coding_assignment/task_1/data/animals10classes/sea_horse/image_0041.jpg\n",
            "/Users/jayotsana/Documents/coding_assignment/task_1/data/animals10classes/sea_horse/image_0055.jpg\n",
            "/Users/jayotsana/Documents/coding_assignment/task_1/data/animals10classes/sea_horse/image_0049.jpg\n",
            "/Users/jayotsana/Documents/coding_assignment/task_1/data/animals10classes/sea_horse/image_0048.jpg\n",
            "/Users/jayotsana/Documents/coding_assignment/task_1/data/animals10classes/sea_horse/image_0013.jpg\n",
            "/Users/jayotsana/Documents/coding_assignment/task_1/data/animals10classes/sea_horse/image_0007.jpg\n",
            "/Users/jayotsana/Documents/coding_assignment/task_1/data/animals10classes/sea_horse/image_0006.jpg\n",
            "/Users/jayotsana/Documents/coding_assignment/task_1/data/animals10classes/sea_horse/image_0012.jpg\n",
            "/Users/jayotsana/Documents/coding_assignment/task_1/data/animals10classes/sea_horse/image_0038.jpg\n",
            "/Users/jayotsana/Documents/coding_assignment/task_1/data/animals10classes/sea_horse/image_0004.jpg\n",
            "/Users/jayotsana/Documents/coding_assignment/task_1/data/animals10classes/sea_horse/image_0010.jpg\n",
            "/Users/jayotsana/Documents/coding_assignment/task_1/data/animals10classes/sea_horse/image_0011.jpg\n",
            "/Users/jayotsana/Documents/coding_assignment/task_1/data/animals10classes/sea_horse/image_0005.jpg\n",
            "/Users/jayotsana/Documents/coding_assignment/task_1/data/animals10classes/sea_horse/image_0039.jpg\n",
            "/Users/jayotsana/Documents/coding_assignment/task_1/data/animals10classes/sea_horse/image_0001.jpg\n",
            "/Users/jayotsana/Documents/coding_assignment/task_1/data/animals10classes/sea_horse/image_0015.jpg\n",
            "/Users/jayotsana/Documents/coding_assignment/task_1/data/animals10classes/sea_horse/image_0029.jpg\n",
            "/Users/jayotsana/Documents/coding_assignment/task_1/data/animals10classes/sea_horse/image_0028.jpg\n",
            "/Users/jayotsana/Documents/coding_assignment/task_1/data/animals10classes/sea_horse/image_0014.jpg\n",
            "/Users/jayotsana/Documents/coding_assignment/task_1/data/animals10classes/sea_horse/image_0016.jpg\n",
            "/Users/jayotsana/Documents/coding_assignment/task_1/data/animals10classes/sea_horse/image_0002.jpg\n",
            "/Users/jayotsana/Documents/coding_assignment/task_1/data/animals10classes/sea_horse/image_0003.jpg\n",
            "/Users/jayotsana/Documents/coding_assignment/task_1/data/animals10classes/sea_horse/image_0017.jpg\n",
            "/Users/jayotsana/Documents/coding_assignment/task_1/data/animals10classes/flamingo/image_0032.jpg\n",
            "/Users/jayotsana/Documents/coding_assignment/task_1/data/animals10classes/flamingo/image_0026.jpg\n",
            "/Users/jayotsana/Documents/coding_assignment/task_1/data/animals10classes/flamingo/image_0027.jpg\n",
            "/Users/jayotsana/Documents/coding_assignment/task_1/data/animals10classes/flamingo/image_0033.jpg\n",
            "/Users/jayotsana/Documents/coding_assignment/task_1/data/animals10classes/flamingo/image_0019.jpg\n",
            "/Users/jayotsana/Documents/coding_assignment/task_1/data/animals10classes/flamingo/image_0025.jpg\n",
            "/Users/jayotsana/Documents/coding_assignment/task_1/data/animals10classes/flamingo/image_0031.jpg\n",
            "/Users/jayotsana/Documents/coding_assignment/task_1/data/animals10classes/flamingo/image_0030.jpg\n",
            "/Users/jayotsana/Documents/coding_assignment/task_1/data/animals10classes/flamingo/image_0024.jpg\n",
            "/Users/jayotsana/Documents/coding_assignment/task_1/data/animals10classes/flamingo/image_0018.jpg\n",
            "/Users/jayotsana/Documents/coding_assignment/task_1/data/animals10classes/flamingo/image_0020.jpg\n",
            "/Users/jayotsana/Documents/coding_assignment/task_1/data/animals10classes/flamingo/image_0034.jpg\n",
            "/Users/jayotsana/Documents/coding_assignment/task_1/data/animals10classes/flamingo/image_0008.jpg\n",
            "/Users/jayotsana/Documents/coding_assignment/task_1/data/animals10classes/flamingo/image_0009.jpg\n",
            "/Users/jayotsana/Documents/coding_assignment/task_1/data/animals10classes/flamingo/image_0035.jpg\n",
            "/Users/jayotsana/Documents/coding_assignment/task_1/data/animals10classes/flamingo/image_0021.jpg\n",
            "/Users/jayotsana/Documents/coding_assignment/task_1/data/animals10classes/flamingo/image_0037.jpg\n",
            "/Users/jayotsana/Documents/coding_assignment/task_1/data/animals10classes/flamingo/image_0023.jpg\n",
            "/Users/jayotsana/Documents/coding_assignment/task_1/data/animals10classes/flamingo/image_0022.jpg\n",
            "/Users/jayotsana/Documents/coding_assignment/task_1/data/animals10classes/flamingo/image_0036.jpg\n",
            "/Users/jayotsana/Documents/coding_assignment/task_1/data/animals10classes/flamingo/image_0051.jpg\n",
            "/Users/jayotsana/Documents/coding_assignment/task_1/data/animals10classes/flamingo/image_0045.jpg\n",
            "/Users/jayotsana/Documents/coding_assignment/task_1/data/animals10classes/flamingo/image_0044.jpg\n",
            "/Users/jayotsana/Documents/coding_assignment/task_1/data/animals10classes/flamingo/image_0050.jpg\n",
            "/Users/jayotsana/Documents/coding_assignment/task_1/data/animals10classes/flamingo/image_0046.jpg\n",
            "/Users/jayotsana/Documents/coding_assignment/task_1/data/animals10classes/flamingo/image_0052.jpg\n",
            "/Users/jayotsana/Documents/coding_assignment/task_1/data/animals10classes/flamingo/image_0053.jpg\n",
            "/Users/jayotsana/Documents/coding_assignment/task_1/data/animals10classes/flamingo/image_0047.jpg\n",
            "/Users/jayotsana/Documents/coding_assignment/task_1/data/animals10classes/flamingo/image_0043.jpg\n",
            "/Users/jayotsana/Documents/coding_assignment/task_1/data/animals10classes/flamingo/image_0057.jpg\n",
            "/Users/jayotsana/Documents/coding_assignment/task_1/data/animals10classes/flamingo/image_0056.jpg\n",
            "/Users/jayotsana/Documents/coding_assignment/task_1/data/animals10classes/flamingo/image_0042.jpg\n",
            "/Users/jayotsana/Documents/coding_assignment/task_1/data/animals10classes/flamingo/image_0054.jpg\n",
            "/Users/jayotsana/Documents/coding_assignment/task_1/data/animals10classes/flamingo/image_0040.jpg\n",
            "/Users/jayotsana/Documents/coding_assignment/task_1/data/animals10classes/flamingo/image_0041.jpg\n",
            "/Users/jayotsana/Documents/coding_assignment/task_1/data/animals10classes/flamingo/image_0055.jpg\n",
            "/Users/jayotsana/Documents/coding_assignment/task_1/data/animals10classes/flamingo/image_0058.jpg\n",
            "/Users/jayotsana/Documents/coding_assignment/task_1/data/animals10classes/flamingo/image_0064.jpg\n",
            "/Users/jayotsana/Documents/coding_assignment/task_1/data/animals10classes/flamingo/image_0065.jpg\n",
            "/Users/jayotsana/Documents/coding_assignment/task_1/data/animals10classes/flamingo/image_0059.jpg\n",
            "/Users/jayotsana/Documents/coding_assignment/task_1/data/animals10classes/flamingo/image_0067.jpg\n",
            "/Users/jayotsana/Documents/coding_assignment/task_1/data/animals10classes/flamingo/image_0066.jpg\n",
            "/Users/jayotsana/Documents/coding_assignment/task_1/data/animals10classes/flamingo/image_0062.jpg\n",
            "/Users/jayotsana/Documents/coding_assignment/task_1/data/animals10classes/flamingo/image_0063.jpg\n",
            "/Users/jayotsana/Documents/coding_assignment/task_1/data/animals10classes/flamingo/image_0061.jpg\n",
            "/Users/jayotsana/Documents/coding_assignment/task_1/data/animals10classes/flamingo/image_0049.jpg\n",
            "/Users/jayotsana/Documents/coding_assignment/task_1/data/animals10classes/flamingo/image_0048.jpg\n",
            "/Users/jayotsana/Documents/coding_assignment/task_1/data/animals10classes/flamingo/image_0060.jpg\n",
            "/Users/jayotsana/Documents/coding_assignment/task_1/data/animals10classes/flamingo/image_0013.jpg\n",
            "/Users/jayotsana/Documents/coding_assignment/task_1/data/animals10classes/flamingo/image_0007.jpg\n",
            "/Users/jayotsana/Documents/coding_assignment/task_1/data/animals10classes/flamingo/image_0006.jpg\n",
            "/Users/jayotsana/Documents/coding_assignment/task_1/data/animals10classes/flamingo/image_0012.jpg\n",
            "/Users/jayotsana/Documents/coding_assignment/task_1/data/animals10classes/flamingo/image_0038.jpg\n",
            "/Users/jayotsana/Documents/coding_assignment/task_1/data/animals10classes/flamingo/image_0004.jpg\n",
            "/Users/jayotsana/Documents/coding_assignment/task_1/data/animals10classes/flamingo/image_0010.jpg\n",
            "/Users/jayotsana/Documents/coding_assignment/task_1/data/animals10classes/flamingo/image_0011.jpg\n",
            "/Users/jayotsana/Documents/coding_assignment/task_1/data/animals10classes/flamingo/image_0005.jpg\n",
            "/Users/jayotsana/Documents/coding_assignment/task_1/data/animals10classes/flamingo/image_0039.jpg\n",
            "/Users/jayotsana/Documents/coding_assignment/task_1/data/animals10classes/flamingo/image_0001.jpg\n",
            "/Users/jayotsana/Documents/coding_assignment/task_1/data/animals10classes/flamingo/image_0015.jpg\n",
            "/Users/jayotsana/Documents/coding_assignment/task_1/data/animals10classes/flamingo/image_0029.jpg\n",
            "/Users/jayotsana/Documents/coding_assignment/task_1/data/animals10classes/flamingo/image_0028.jpg\n",
            "/Users/jayotsana/Documents/coding_assignment/task_1/data/animals10classes/flamingo/image_0014.jpg\n",
            "/Users/jayotsana/Documents/coding_assignment/task_1/data/animals10classes/flamingo/image_0016.jpg\n",
            "/Users/jayotsana/Documents/coding_assignment/task_1/data/animals10classes/flamingo/image_0002.jpg\n",
            "/Users/jayotsana/Documents/coding_assignment/task_1/data/animals10classes/flamingo/image_0003.jpg\n",
            "/Users/jayotsana/Documents/coding_assignment/task_1/data/animals10classes/flamingo/image_0017.jpg\n",
            "/Users/jayotsana/Documents/coding_assignment/task_1/data/animals10classes/crayfish/image_0032.jpg\n",
            "/Users/jayotsana/Documents/coding_assignment/task_1/data/animals10classes/crayfish/image_0026.jpg\n",
            "/Users/jayotsana/Documents/coding_assignment/task_1/data/animals10classes/crayfish/image_0027.jpg\n",
            "/Users/jayotsana/Documents/coding_assignment/task_1/data/animals10classes/crayfish/image_0033.jpg\n",
            "/Users/jayotsana/Documents/coding_assignment/task_1/data/animals10classes/crayfish/image_0019.jpg\n",
            "/Users/jayotsana/Documents/coding_assignment/task_1/data/animals10classes/crayfish/image_0025.jpg\n",
            "/Users/jayotsana/Documents/coding_assignment/task_1/data/animals10classes/crayfish/image_0031.jpg\n",
            "/Users/jayotsana/Documents/coding_assignment/task_1/data/animals10classes/crayfish/image_0030.jpg\n",
            "/Users/jayotsana/Documents/coding_assignment/task_1/data/animals10classes/crayfish/image_0024.jpg\n",
            "/Users/jayotsana/Documents/coding_assignment/task_1/data/animals10classes/crayfish/image_0018.jpg\n",
            "/Users/jayotsana/Documents/coding_assignment/task_1/data/animals10classes/crayfish/image_0020.jpg\n",
            "/Users/jayotsana/Documents/coding_assignment/task_1/data/animals10classes/crayfish/image_0034.jpg\n",
            "/Users/jayotsana/Documents/coding_assignment/task_1/data/animals10classes/crayfish/image_0008.jpg\n",
            "/Users/jayotsana/Documents/coding_assignment/task_1/data/animals10classes/crayfish/image_0009.jpg\n",
            "/Users/jayotsana/Documents/coding_assignment/task_1/data/animals10classes/crayfish/image_0035.jpg\n",
            "/Users/jayotsana/Documents/coding_assignment/task_1/data/animals10classes/crayfish/image_0021.jpg\n",
            "/Users/jayotsana/Documents/coding_assignment/task_1/data/animals10classes/crayfish/image_0037.jpg\n",
            "/Users/jayotsana/Documents/coding_assignment/task_1/data/animals10classes/crayfish/image_0023.jpg\n",
            "/Users/jayotsana/Documents/coding_assignment/task_1/data/animals10classes/crayfish/image_0022.jpg\n",
            "/Users/jayotsana/Documents/coding_assignment/task_1/data/animals10classes/crayfish/image_0036.jpg\n",
            "/Users/jayotsana/Documents/coding_assignment/task_1/data/animals10classes/crayfish/image_0051.jpg\n",
            "/Users/jayotsana/Documents/coding_assignment/task_1/data/animals10classes/crayfish/image_0045.jpg\n",
            "/Users/jayotsana/Documents/coding_assignment/task_1/data/animals10classes/crayfish/image_0044.jpg\n",
            "/Users/jayotsana/Documents/coding_assignment/task_1/data/animals10classes/crayfish/image_0050.jpg\n",
            "/Users/jayotsana/Documents/coding_assignment/task_1/data/animals10classes/crayfish/image_0046.jpg\n",
            "/Users/jayotsana/Documents/coding_assignment/task_1/data/animals10classes/crayfish/image_0052.jpg\n",
            "/Users/jayotsana/Documents/coding_assignment/task_1/data/animals10classes/crayfish/image_0053.jpg\n",
            "/Users/jayotsana/Documents/coding_assignment/task_1/data/animals10classes/crayfish/image_0047.jpg\n",
            "/Users/jayotsana/Documents/coding_assignment/task_1/data/animals10classes/crayfish/image_0043.jpg\n",
            "/Users/jayotsana/Documents/coding_assignment/task_1/data/animals10classes/crayfish/image_0057.jpg\n",
            "/Users/jayotsana/Documents/coding_assignment/task_1/data/animals10classes/crayfish/image_0056.jpg\n",
            "/Users/jayotsana/Documents/coding_assignment/task_1/data/animals10classes/crayfish/image_0042.jpg\n",
            "/Users/jayotsana/Documents/coding_assignment/task_1/data/animals10classes/crayfish/image_0054.jpg\n",
            "/Users/jayotsana/Documents/coding_assignment/task_1/data/animals10classes/crayfish/image_0040.jpg\n",
            "/Users/jayotsana/Documents/coding_assignment/task_1/data/animals10classes/crayfish/image_0068.jpg\n",
            "/Users/jayotsana/Documents/coding_assignment/task_1/data/animals10classes/crayfish/image_0069.jpg\n",
            "/Users/jayotsana/Documents/coding_assignment/task_1/data/animals10classes/crayfish/image_0041.jpg\n",
            "/Users/jayotsana/Documents/coding_assignment/task_1/data/animals10classes/crayfish/image_0055.jpg\n",
            "/Users/jayotsana/Documents/coding_assignment/task_1/data/animals10classes/crayfish/image_0058.jpg\n",
            "/Users/jayotsana/Documents/coding_assignment/task_1/data/animals10classes/crayfish/image_0070.jpg\n",
            "/Users/jayotsana/Documents/coding_assignment/task_1/data/animals10classes/crayfish/image_0064.jpg\n",
            "/Users/jayotsana/Documents/coding_assignment/task_1/data/animals10classes/crayfish/image_0065.jpg\n",
            "/Users/jayotsana/Documents/coding_assignment/task_1/data/animals10classes/crayfish/image_0059.jpg\n",
            "/Users/jayotsana/Documents/coding_assignment/task_1/data/animals10classes/crayfish/image_0067.jpg\n",
            "/Users/jayotsana/Documents/coding_assignment/task_1/data/animals10classes/crayfish/image_0066.jpg\n",
            "/Users/jayotsana/Documents/coding_assignment/task_1/data/animals10classes/crayfish/image_0062.jpg\n",
            "/Users/jayotsana/Documents/coding_assignment/task_1/data/animals10classes/crayfish/image_0063.jpg\n",
            "/Users/jayotsana/Documents/coding_assignment/task_1/data/animals10classes/crayfish/image_0061.jpg\n",
            "/Users/jayotsana/Documents/coding_assignment/task_1/data/animals10classes/crayfish/image_0049.jpg\n",
            "/Users/jayotsana/Documents/coding_assignment/task_1/data/animals10classes/crayfish/image_0048.jpg\n",
            "/Users/jayotsana/Documents/coding_assignment/task_1/data/animals10classes/crayfish/image_0060.jpg\n",
            "/Users/jayotsana/Documents/coding_assignment/task_1/data/animals10classes/crayfish/image_0013.jpg\n",
            "/Users/jayotsana/Documents/coding_assignment/task_1/data/animals10classes/crayfish/image_0007.jpg\n",
            "/Users/jayotsana/Documents/coding_assignment/task_1/data/animals10classes/crayfish/image_0006.jpg\n",
            "/Users/jayotsana/Documents/coding_assignment/task_1/data/animals10classes/crayfish/image_0012.jpg\n",
            "/Users/jayotsana/Documents/coding_assignment/task_1/data/animals10classes/crayfish/image_0038.jpg\n",
            "/Users/jayotsana/Documents/coding_assignment/task_1/data/animals10classes/crayfish/image_0004.jpg\n",
            "/Users/jayotsana/Documents/coding_assignment/task_1/data/animals10classes/crayfish/image_0010.jpg\n",
            "/Users/jayotsana/Documents/coding_assignment/task_1/data/animals10classes/crayfish/image_0011.jpg\n",
            "/Users/jayotsana/Documents/coding_assignment/task_1/data/animals10classes/crayfish/image_0005.jpg\n",
            "/Users/jayotsana/Documents/coding_assignment/task_1/data/animals10classes/crayfish/image_0039.jpg\n",
            "/Users/jayotsana/Documents/coding_assignment/task_1/data/animals10classes/crayfish/image_0001.jpg\n",
            "/Users/jayotsana/Documents/coding_assignment/task_1/data/animals10classes/crayfish/image_0015.jpg\n",
            "/Users/jayotsana/Documents/coding_assignment/task_1/data/animals10classes/crayfish/image_0029.jpg\n",
            "/Users/jayotsana/Documents/coding_assignment/task_1/data/animals10classes/crayfish/image_0028.jpg\n",
            "/Users/jayotsana/Documents/coding_assignment/task_1/data/animals10classes/crayfish/image_0014.jpg\n",
            "/Users/jayotsana/Documents/coding_assignment/task_1/data/animals10classes/crayfish/image_0016.jpg\n",
            "/Users/jayotsana/Documents/coding_assignment/task_1/data/animals10classes/crayfish/image_0002.jpg\n",
            "/Users/jayotsana/Documents/coding_assignment/task_1/data/animals10classes/crayfish/image_0003.jpg\n",
            "/Users/jayotsana/Documents/coding_assignment/task_1/data/animals10classes/crayfish/image_0017.jpg\n"
          ]
        }
      ],
      "source": [
        "#Keep4students\n",
        "def loadImagesAndLabels(IMDIR):\n",
        "  #This function glances through all subdirectories in IMDIR,\n",
        "  #and creates a list of the subdirectory names, which will be\n",
        "  #used as labels for all the images within.The function returns\n",
        "  #the list of labels\n",
        "  #\n",
        "  #If the function returns an empty list, it is likely that IMDIR\n",
        "  #is not defined correctly. In that case uncomment the lines below\n",
        "  #to check the files that are actually being read.\n",
        "\n",
        "  labelNamesAll = []\n",
        "\n",
        "  for root, dirnames, filenames in os.walk(IMDIR):\n",
        "      labelNamesAll.append(dirnames)\n",
        "      #uncomment to check if the folder contains images\n",
        "      for filename in filenames:\n",
        "        f = os.path.join(root, filename)\n",
        "        if f.endswith(('.png', '.jpg', '.jpeg','.JPG', '.tif', '.gif')):\n",
        "           print(f)\n",
        "\n",
        "  labelNamesAll = labelNamesAll[0]\n",
        "  return labelNamesAll\n",
        "\n",
        "#Call the function and\n",
        "labelNamesAll=loadImagesAndLabels(IMDIR)\n",
        "#print the list of all labels/subdirectories\n"
      ]
    },
    {
      "cell_type": "markdown",
      "metadata": {
        "id": "mQKa2DBl85i8"
      },
      "source": [
        "**b).** Use the BuildDataset function to create a reduced dataset. In this notebook we will notably deal with binary classification problems. Print the sizes of the data matrix X and the label vector Y. Print as well the retained list of labels and the content of Y."
      ]
    },
    {
      "cell_type": "code",
      "execution_count": 10,
      "metadata": {
        "id": "RZCnlt7x85i-"
      },
      "outputs": [],
      "source": [
        "#Keep4students\n",
        "def buildDataset (IMDIR,labelNamesAll,K=2,N=100,imHeight=100,imWidth=100,seed=50):\n",
        "    #This function builds the data matrix from (a subset) of the label list.\n",
        "    #Images are read using a composition of the path and the label list.\n",
        "    #Parameters of this functions are:\n",
        "    # K : the number of classes to consider\n",
        "    # N : the maximum number of images to read from each category (the number\n",
        "    #    of images per label is variable).\n",
        "    # imHeight,imWidth: define the size of the target image. All read images\n",
        "    #                  are resized to imHeight x imWidth\n",
        "    # seed : fixes the random seed to be able to reproduce the results.\n",
        "    # The function returns the data matrix X and the label vector Y.\n",
        "    # Ideally, the X matrix will be of size (KxN)x(ImHeight x ImWidth) but\n",
        "    # the number of rows will be less if the number of images in a given\n",
        "    # category is smaller than N\n",
        "\n",
        "    X = np.zeros([K*N,imHeight*imWidth]) #data matrix, one image per row\n",
        "    Y = -np.ones([K*N,1]) #label indices initiallized to -1\n",
        "    labelNames = [] #list of retained categories\n",
        "\n",
        "    random.seed(a=seed) #comment to make each run random\n",
        "\n",
        "    globalCount = 0 #counts the actual number of images copied to the datamatrix\n",
        "\n",
        "    # Iterate over the number of classes\n",
        "    for i in range(K):\n",
        "        #Randomly choose a new category\n",
        "        while True:\n",
        "            lab = random.randint(0,len(labelNamesAll)-1)\n",
        "            if lab not in labelNames:\n",
        "                break\n",
        "\n",
        "        #define the path to read the images of the chosen label.\n",
        "        #folders are named after the class label, print the chosen label\n",
        "        filedir = os.path.join(IMDIR,labelNamesAll[lab])\n",
        "        print('The chosen label ',i, ' is ',labelNamesAll[lab])\n",
        "        print('It will be read in',filedir)\n",
        "\n",
        "        #save the name of the class in labelNames\n",
        "        labelNames.append(labelNamesAll[lab])\n",
        "\n",
        "        #walk through the files of the label folder,\n",
        "        #read images in grayscale and resize them\n",
        "        #flatten the images to a vector\n",
        "        #copy each image to one row of the data matrix\n",
        "        #use classCount to retain at most N images per class\n",
        "        #use globalCount to keep track of the total number of images\n",
        "        classCount = 0\n",
        "        for filename in os.listdir(filedir):\n",
        "            f = os.path.join(filedir, filename)\n",
        "            if f.endswith(('.jpg')) and (classCount < N):\n",
        "                image = skimage.io.imread(f, as_gray=True)\n",
        "                image = skimage.transform.resize(image, [imHeight,imWidth],mode='constant')#,anti_aliasing=True)\n",
        "                X[globalCount,:] = image.flatten()\n",
        "                Y[globalCount,:] = i\n",
        "                globalCount += 1\n",
        "                classCount += 1\n",
        "\n",
        "    #Remove the unused entries of X and Y\n",
        "    print(\"Total number of samples\",globalCount)\n",
        "    X = X[:globalCount,:]\n",
        "    Y = Y[:globalCount,:]\n",
        "\n",
        "    return X,Y,labelNames"
      ]
    },
    {
      "cell_type": "code",
      "execution_count": 11,
      "metadata": {
        "id": "A23aTrqm85i_"
      },
      "outputs": [
        {
          "name": "stdout",
          "output_type": "stream",
          "text": [
            "The chosen label  0  is  sea_horse\n",
            "It will be read in /Users/jayotsana/Documents/coding_assignment/task_1/data/animals10classes/sea_horse\n"
          ]
        },
        {
          "name": "stdout",
          "output_type": "stream",
          "text": [
            "The chosen label  1  is  crocodile\n",
            "It will be read in /Users/jayotsana/Documents/coding_assignment/task_1/data/animals10classes/crocodile\n",
            "Total number of samples 107\n",
            "Used labels ['sea_horse', 'crocodile']\n",
            "Size of data matrix (107, 10000)\n",
            "Class labels [[0. 0. 0. 0. 0. 0. 0. 0. 0. 0. 0. 0. 0. 0. 0. 0. 0. 0. 0. 0. 0. 0. 0. 0.\n",
            "  0. 0. 0. 0. 0. 0. 0. 0. 0. 0. 0. 0. 0. 0. 0. 0. 0. 0. 0. 0. 0. 0. 0. 0.\n",
            "  0. 0. 0. 0. 0. 0. 0. 0. 0. 1. 1. 1. 1. 1. 1. 1. 1. 1. 1. 1. 1. 1. 1. 1.\n",
            "  1. 1. 1. 1. 1. 1. 1. 1. 1. 1. 1. 1. 1. 1. 1. 1. 1. 1. 1. 1. 1. 1. 1. 1.\n",
            "  1. 1. 1. 1. 1. 1. 1. 1. 1. 1. 1.]]\n"
          ]
        }
      ],
      "source": [
        "K=2\n",
        "imHeight=100\n",
        "imWidth=100\n",
        "\n",
        "#Call the buildDataset function\n",
        "\n",
        "X,Y,labelNames=buildDataset(IMDIR,labelNamesAll,K=2,N=100,imHeight=100,imWidth=100,seed=50)\n",
        "\n",
        "#Check the built dataset classes\n",
        "print(\"Used labels\",labelNames)\n",
        "print(\"Size of data matrix\", X.shape)\n",
        "print(\"Class labels\", Y.T)"
      ]
    },
    {
      "cell_type": "markdown",
      "metadata": {
        "id": "qnsGttTt85jC"
      },
      "source": [
        "**c)** Split the dataset into a train (80% of samples) and a test set (20% samples) subsets. Make sure the data are shuffled before the split, such that the proportion of the two classes is similar in the train and test."
      ]
    },
    {
      "cell_type": "code",
      "execution_count": 16,
      "metadata": {
        "id": "9P3ROrPE85jC"
      },
      "outputs": [
        {
          "name": "stdout",
          "output_type": "stream",
          "text": [
            "size of train dataset (85, 10000)\n",
            "size of test dataset (22, 10000)\n",
            "train target vector [[1. 0. 0. 0. 0. 1. 0. 0. 1. 1. 0. 0. 1. 1. 0. 0. 0. 0. 1. 0. 0. 0. 1. 0.\n",
            "  0. 0. 1. 1. 0. 0. 1. 1. 0. 1. 0. 0. 0. 0. 0. 0. 0. 1. 0. 1. 1. 1. 0. 0.\n",
            "  1. 0. 1. 1. 1. 1. 0. 1. 0. 1. 1. 1. 0. 1. 1. 1. 1. 0. 0. 1. 0. 0. 0. 0.\n",
            "  0. 1. 1. 1. 1. 1. 0. 1. 1. 0. 1. 0. 1.]]\n",
            "test target vector [[1. 0. 0. 1. 1. 1. 0. 0. 1. 0. 1. 0. 0. 1. 0. 1. 0. 1. 1. 0. 0. 0.]]\n"
          ]
        }
      ],
      "source": [
        "#PUT your code here, and check the obtained matrices\n",
        "from sklearn.model_selection import train_test_split\n",
        "X_train, X_test, Y_train, Y_test = train_test_split(X, Y, test_size=0.20, random_state=42)\n",
        "print(\"size of train dataset\",X_train.shape)\n",
        "print(\"size of test dataset\",X_test.shape)\n",
        "print(\"train target vector\",Y_train.T)\n",
        "print(\"test target vector\",Y_test.T)"
      ]
    },
    {
      "cell_type": "markdown",
      "metadata": {},
      "source": []
    },
    {
      "cell_type": "markdown",
      "metadata": {
        "id": "Z6ABmSDq85jE"
      },
      "source": [
        "**a) Linear SVM** Create an SVC model with a linear kernel and default values ``svmLin=SVC(kernel='linear')``.\n",
        "\n",
        "* Fit the SVC on the training dataset and make predictions on the test set.\n",
        "\n",
        "* Print the vector of ground truth values and the vector of predictions.\n",
        "* Compute  the number of errors made.\n",
        "* Run the SVC.score() function.\n",
        "* Activate probabilities ``svmLin = SVC(kernel='linear',probability=True)``.\n",
        "* Make probabilistic predictions ``svmLin.predict_proba``\n",
        "\n",
        "* **QUESTIONS**\n",
        "  * Is it necessary to normalize the features before training?\n",
        "  * Which metric is being computed by SVC.score()\n",
        "  * How are the probabilistic predictions computed? (check the documentation)"
      ]
    },
    {
      "cell_type": "markdown",
      "metadata": {},
      "source": [
        "Yes,it is necessary to normalise features. Because the range of the values of every feature varies differently."
      ]
    },
    {
      "cell_type": "markdown",
      "metadata": {},
      "source": [
        "Which metric is being computed by SVC.score(): TP/(TP+TN)"
      ]
    },
    {
      "cell_type": "code",
      "execution_count": 63,
      "metadata": {
        "id": "iYSk578A85jE"
      },
      "outputs": [
        {
          "name": "stdout",
          "output_type": "stream",
          "text": [
            "0.36363636363636365\n"
          ]
        },
        {
          "name": "stderr",
          "output_type": "stream",
          "text": [
            "/Users/jayotsana/Documents/coding_assignment/envai/lib/python3.13/site-packages/sklearn/utils/validation.py:1339: DataConversionWarning: A column-vector y was passed when a 1d array was expected. Please change the shape of y to (n_samples, ), for example using ravel().\n",
            "  y = column_or_1d(y, warn=True)\n"
          ]
        }
      ],
      "source": [
        "# Create, train and test an svm model\n",
        "from sklearn.pipeline import make_pipeline\n",
        "from sklearn.preprocessing import StandardScaler\n",
        "svmLin=SVC(kernel='linear')\n",
        "clf = make_pipeline(StandardScaler(), svmLin)\n",
        "clf.fit(X_train, Y_train)\n",
        "print(clf.score(X_test, Y_test))\n",
        "# Create, train and test a \"probabilistic\" SVM model\n",
        "# svmLin = SVC(kernel='linear',probability=True)\n",
        "# clf = make_pipeline(StandardScaler(), svmLin)\n",
        "# clf.fit(X_train, Y_train)\n",
        "# clf.score(X_test, Y_test)\n",
        "# svmLin.predict_proba(X_train)\n",
        "Y_pred_train=clf.predict(X_train)\n",
        "Y_pred_test=clf.predict(X_test)"
      ]
    },
    {
      "cell_type": "code",
      "execution_count": 62,
      "metadata": {},
      "outputs": [
        {
          "name": "stdout",
          "output_type": "stream",
          "text": [
            "Train: [[45  0]\n",
            " [ 0 40]]\n",
            "Test: [[3 9]\n",
            " [5 5]]\n"
          ]
        }
      ],
      "source": [
        "from sklearn.metrics import confusion_matrix\n",
        "print(\"Train:\", confusion_matrix(Y_train.flatten(), Y_pred_train.flatten()))\n",
        "print(\"Test:\", confusion_matrix(Y_test.flatten(), Y_pred_test.flatten()))"
      ]
    },
    {
      "cell_type": "code",
      "execution_count": null,
      "metadata": {},
      "outputs": [],
      "source": []
    },
    {
      "cell_type": "markdown",
      "metadata": {
        "id": "5EOYy0VMZGlw"
      },
      "source": [
        "**b) Support vectors**\n",
        "* By looking at the dimensions of the data matrix, how many parameters does the **model** have? (Hint: the answer is not SVC.get_params())\n",
        "* How many hyperparameters does the model have?\n",
        "* How many support vectors?\n",
        "* Check the SVC class attributes https://scikit-learn.org/dev/modules/generated/sklearn.svm.SVC.html and identify the learnable parameters, the support vectors and the dual variables\n",
        "* Display the support vectors\n",
        "* Relying on the lecture, compute the model parameters from the dual coefficients. Verify the obtained result corresponds to the estimated parameters.\n",
        "\n"
      ]
    },
    {
      "cell_type": "code",
      "execution_count": 47,
      "metadata": {
        "id": "UpR5mAX4-iLh"
      },
      "outputs": [
        {
          "data": {
            "text/plain": [
              "(1, 10000)"
            ]
          },
          "execution_count": 47,
          "metadata": {},
          "output_type": "execute_result"
        }
      ],
      "source": [
        "svmLin.coef_.shape"
      ]
    },
    {
      "cell_type": "code",
      "execution_count": 50,
      "metadata": {},
      "outputs": [
        {
          "data": {
            "text/plain": [
              "(43, 10000)"
            ]
          },
          "execution_count": 50,
          "metadata": {},
          "output_type": "execute_result"
        },
        {
          "data": {
            "image/png": "[encoded data removed]",
            "text/plain": [
              "<Figure size 1000x500 with 1 Axes>"
            ]
          },
          "metadata": {},
          "output_type": "display_data"
        }
      ],
      "source": [
        "from sklearn.inspection import DecisionBoundaryDisplay\n",
        "plt.figure(figsize=(10, 5))\n",
        "# we can also calculate the decision function manually\n",
        "    # decision_function = np.dot(X, clf.coef_[0]) + clf.intercept_[0]\n",
        "    # The support vectors are the samples that lie within the margin\n",
        "    # boundaries, whose size is conventionally constrained to 1\n",
        "# obtain the support vectors through the decision function\n",
        "decision_function = clf.decision_function(X)\n",
        "support_vector_indices = np.where(np.abs(decision_function) <= 1 + 1e-15)[0]\n",
        "support_vectors = X[support_vector_indices]\n",
        "ax = plt.gca()\n",
        "\n",
        "# plt.scatter(support_vectors[:, 0],support_vectors[:, 1],\n",
        "#         s=100,\n",
        "#         linewidth=1,\n",
        "#         facecolors=\"none\",\n",
        "#         edgecolors=\"k\",\n",
        "#     )\n",
        "\n",
        "support_vectors.shape"
      ]
    },
    {
      "cell_type": "markdown",
      "metadata": {
        "id": "NB7bLuY8-jV7"
      },
      "source": [
        "**c) Kernel SVMs.**\n",
        "* Train three additional SVC models each using one among the kernel functions:\n",
        "```\n",
        "'kernel': ['rbf','poly', 'sigmoid'],\n",
        "```\n",
        "keep all other parameters to their default value.\n",
        "\n",
        "* Report the number of support vectors found after fitting for each Kernel\n",
        "* What are the hyperparameters available in each case?\n",
        "* Report the number of errors and the accuracy for each model"
      ]
    },
    {
      "cell_type": "code",
      "execution_count": null,
      "metadata": {
        "id": "7Rit1LUS7HIg"
      },
      "outputs": [],
      "source": [
        "\n"
      ]
    },
    {
      "cell_type": "code",
      "execution_count": null,
      "metadata": {
        "id": "d1MItOP4cjP-"
      },
      "outputs": [],
      "source": []
    },
    {
      "cell_type": "markdown",
      "metadata": {
        "id": "3Q6m2JkWkdT5"
      },
      "source": [
        "**d)Hyperparameter tuning**\n",
        "Tune the hyperparameters of both the linear and the non-linear SVMs using a crossvalidation strategy. Resplit the training set into training and validation or use the ``GridSearchCV`` functionality from sklearn. In the later case  EXPLAIN how the dataset was and the criteria used to retain a given set of hyperparameters\n",
        "\n"
      ]
    },
    {
      "cell_type": "code",
      "execution_count": 45,
      "metadata": {
        "id": "vip_7pbnkgiG"
      },
      "outputs": [
        {
          "ename": "ValueError",
          "evalue": "Invalid parameter 'C' for estimator Pipeline(steps=[('standardscaler', StandardScaler()),\n                ('svc', SVC(kernel='linear', probability=True))]). Valid parameters are: ['memory', 'steps', 'verbose'].",
          "output_type": "error",
          "traceback": [
            "\u001b[0;31m---------------------------------------------------------------------------\u001b[0m",
            "\u001b[0;31mValueError\u001b[0m                                Traceback (most recent call last)",
            "Cell \u001b[0;32mIn[45], line 7\u001b[0m\n\u001b[1;32m      3\u001b[0m param_grid \u001b[38;5;241m=\u001b[39m {\u001b[38;5;124m'\u001b[39m\u001b[38;5;124mC\u001b[39m\u001b[38;5;124m'\u001b[39m: [\u001b[38;5;241m0.1\u001b[39m,\u001b[38;5;241m1\u001b[39m, \u001b[38;5;241m10\u001b[39m, \u001b[38;5;241m100\u001b[39m],\n\u001b[1;32m      4\u001b[0m               \u001b[38;5;124m'\u001b[39m\u001b[38;5;124mgamma\u001b[39m\u001b[38;5;124m'\u001b[39m: [\u001b[38;5;241m1\u001b[39m,\u001b[38;5;241m0.1\u001b[39m,\u001b[38;5;241m0.01\u001b[39m,\u001b[38;5;241m0.001\u001b[39m],\n\u001b[1;32m      5\u001b[0m               \u001b[38;5;124m'\u001b[39m\u001b[38;5;124mdegree\u001b[39m\u001b[38;5;124m'\u001b[39m: [\u001b[38;5;241m2\u001b[39m, \u001b[38;5;241m3\u001b[39m, \u001b[38;5;241m5\u001b[39m]}\n\u001b[1;32m      6\u001b[0m search \u001b[38;5;241m=\u001b[39m GridSearchCV(clf, param_grid, cv\u001b[38;5;241m=\u001b[39m\u001b[38;5;241m5\u001b[39m)\n\u001b[0;32m----> 7\u001b[0m \u001b[43msearch\u001b[49m\u001b[38;5;241;43m.\u001b[39;49m\u001b[43mfit\u001b[49m\u001b[43m(\u001b[49m\u001b[43mX_train\u001b[49m\u001b[43m,\u001b[49m\u001b[43mY_train\u001b[49m\u001b[43m)\u001b[49m\n",
            "File \u001b[0;32m~/Documents/coding_assignment/envai/lib/python3.13/site-packages/sklearn/base.py:1473\u001b[0m, in \u001b[0;36m_fit_context.<locals>.decorator.<locals>.wrapper\u001b[0;34m(estimator, *args, **kwargs)\u001b[0m\n\u001b[1;32m   1466\u001b[0m     estimator\u001b[38;5;241m.\u001b[39m_validate_params()\n\u001b[1;32m   1468\u001b[0m \u001b[38;5;28;01mwith\u001b[39;00m config_context(\n\u001b[1;32m   1469\u001b[0m     skip_parameter_validation\u001b[38;5;241m=\u001b[39m(\n\u001b[1;32m   1470\u001b[0m         prefer_skip_nested_validation \u001b[38;5;129;01mor\u001b[39;00m global_skip_validation\n\u001b[1;32m   1471\u001b[0m     )\n\u001b[1;32m   1472\u001b[0m ):\n\u001b[0;32m-> 1473\u001b[0m     \u001b[38;5;28;01mreturn\u001b[39;00m \u001b[43mfit_method\u001b[49m\u001b[43m(\u001b[49m\u001b[43mestimator\u001b[49m\u001b[43m,\u001b[49m\u001b[43m \u001b[49m\u001b[38;5;241;43m*\u001b[39;49m\u001b[43margs\u001b[49m\u001b[43m,\u001b[49m\u001b[43m \u001b[49m\u001b[38;5;241;43m*\u001b[39;49m\u001b[38;5;241;43m*\u001b[39;49m\u001b[43mkwargs\u001b[49m\u001b[43m)\u001b[49m\n",
            "File \u001b[0;32m~/Documents/coding_assignment/envai/lib/python3.13/site-packages/sklearn/model_selection/_search.py:1019\u001b[0m, in \u001b[0;36mBaseSearchCV.fit\u001b[0;34m(self, X, y, **params)\u001b[0m\n\u001b[1;32m   1013\u001b[0m     results \u001b[38;5;241m=\u001b[39m \u001b[38;5;28mself\u001b[39m\u001b[38;5;241m.\u001b[39m_format_results(\n\u001b[1;32m   1014\u001b[0m         all_candidate_params, n_splits, all_out, all_more_results\n\u001b[1;32m   1015\u001b[0m     )\n\u001b[1;32m   1017\u001b[0m     \u001b[38;5;28;01mreturn\u001b[39;00m results\n\u001b[0;32m-> 1019\u001b[0m \u001b[38;5;28;43mself\u001b[39;49m\u001b[38;5;241;43m.\u001b[39;49m\u001b[43m_run_search\u001b[49m\u001b[43m(\u001b[49m\u001b[43mevaluate_candidates\u001b[49m\u001b[43m)\u001b[49m\n\u001b[1;32m   1021\u001b[0m \u001b[38;5;66;03m# multimetric is determined here because in the case of a callable\u001b[39;00m\n\u001b[1;32m   1022\u001b[0m \u001b[38;5;66;03m# self.scoring the return type is only known after calling\u001b[39;00m\n\u001b[1;32m   1023\u001b[0m first_test_score \u001b[38;5;241m=\u001b[39m all_out[\u001b[38;5;241m0\u001b[39m][\u001b[38;5;124m\"\u001b[39m\u001b[38;5;124mtest_scores\u001b[39m\u001b[38;5;124m\"\u001b[39m]\n",
            "File \u001b[0;32m~/Documents/coding_assignment/envai/lib/python3.13/site-packages/sklearn/model_selection/_search.py:1573\u001b[0m, in \u001b[0;36mGridSearchCV._run_search\u001b[0;34m(self, evaluate_candidates)\u001b[0m\n\u001b[1;32m   1571\u001b[0m \u001b[38;5;28;01mdef\u001b[39;00m \u001b[38;5;21m_run_search\u001b[39m(\u001b[38;5;28mself\u001b[39m, evaluate_candidates):\n\u001b[1;32m   1572\u001b[0m \u001b[38;5;250m    \u001b[39m\u001b[38;5;124;03m\"\"\"Search all candidates in param_grid\"\"\"\u001b[39;00m\n\u001b[0;32m-> 1573\u001b[0m     \u001b[43mevaluate_candidates\u001b[49m\u001b[43m(\u001b[49m\u001b[43mParameterGrid\u001b[49m\u001b[43m(\u001b[49m\u001b[38;5;28;43mself\u001b[39;49m\u001b[38;5;241;43m.\u001b[39;49m\u001b[43mparam_grid\u001b[49m\u001b[43m)\u001b[49m\u001b[43m)\u001b[49m\n",
            "File \u001b[0;32m~/Documents/coding_assignment/envai/lib/python3.13/site-packages/sklearn/model_selection/_search.py:965\u001b[0m, in \u001b[0;36mBaseSearchCV.fit.<locals>.evaluate_candidates\u001b[0;34m(candidate_params, cv, more_results)\u001b[0m\n\u001b[1;32m    957\u001b[0m \u001b[38;5;28;01mif\u001b[39;00m \u001b[38;5;28mself\u001b[39m\u001b[38;5;241m.\u001b[39mverbose \u001b[38;5;241m>\u001b[39m \u001b[38;5;241m0\u001b[39m:\n\u001b[1;32m    958\u001b[0m     \u001b[38;5;28mprint\u001b[39m(\n\u001b[1;32m    959\u001b[0m         \u001b[38;5;124m\"\u001b[39m\u001b[38;5;124mFitting \u001b[39m\u001b[38;5;132;01m{0}\u001b[39;00m\u001b[38;5;124m folds for each of \u001b[39m\u001b[38;5;132;01m{1}\u001b[39;00m\u001b[38;5;124m candidates,\u001b[39m\u001b[38;5;124m\"\u001b[39m\n\u001b[1;32m    960\u001b[0m         \u001b[38;5;124m\"\u001b[39m\u001b[38;5;124m totalling \u001b[39m\u001b[38;5;132;01m{2}\u001b[39;00m\u001b[38;5;124m fits\u001b[39m\u001b[38;5;124m\"\u001b[39m\u001b[38;5;241m.\u001b[39mformat(\n\u001b[1;32m    961\u001b[0m             n_splits, n_candidates, n_candidates \u001b[38;5;241m*\u001b[39m n_splits\n\u001b[1;32m    962\u001b[0m         )\n\u001b[1;32m    963\u001b[0m     )\n\u001b[0;32m--> 965\u001b[0m out \u001b[38;5;241m=\u001b[39m \u001b[43mparallel\u001b[49m\u001b[43m(\u001b[49m\n\u001b[1;32m    966\u001b[0m \u001b[43m    \u001b[49m\u001b[43mdelayed\u001b[49m\u001b[43m(\u001b[49m\u001b[43m_fit_and_score\u001b[49m\u001b[43m)\u001b[49m\u001b[43m(\u001b[49m\n\u001b[1;32m    967\u001b[0m \u001b[43m        \u001b[49m\u001b[43mclone\u001b[49m\u001b[43m(\u001b[49m\u001b[43mbase_estimator\u001b[49m\u001b[43m)\u001b[49m\u001b[43m,\u001b[49m\n\u001b[1;32m    968\u001b[0m \u001b[43m        \u001b[49m\u001b[43mX\u001b[49m\u001b[43m,\u001b[49m\n\u001b[1;32m    969\u001b[0m \u001b[43m        \u001b[49m\u001b[43my\u001b[49m\u001b[43m,\u001b[49m\n\u001b[1;32m    970\u001b[0m \u001b[43m        \u001b[49m\u001b[43mtrain\u001b[49m\u001b[38;5;241;43m=\u001b[39;49m\u001b[43mtrain\u001b[49m\u001b[43m,\u001b[49m\n\u001b[1;32m    971\u001b[0m \u001b[43m        \u001b[49m\u001b[43mtest\u001b[49m\u001b[38;5;241;43m=\u001b[39;49m\u001b[43mtest\u001b[49m\u001b[43m,\u001b[49m\n\u001b[1;32m    972\u001b[0m \u001b[43m        \u001b[49m\u001b[43mparameters\u001b[49m\u001b[38;5;241;43m=\u001b[39;49m\u001b[43mparameters\u001b[49m\u001b[43m,\u001b[49m\n\u001b[1;32m    973\u001b[0m \u001b[43m        \u001b[49m\u001b[43msplit_progress\u001b[49m\u001b[38;5;241;43m=\u001b[39;49m\u001b[43m(\u001b[49m\u001b[43msplit_idx\u001b[49m\u001b[43m,\u001b[49m\u001b[43m \u001b[49m\u001b[43mn_splits\u001b[49m\u001b[43m)\u001b[49m\u001b[43m,\u001b[49m\n\u001b[1;32m    974\u001b[0m \u001b[43m        \u001b[49m\u001b[43mcandidate_progress\u001b[49m\u001b[38;5;241;43m=\u001b[39;49m\u001b[43m(\u001b[49m\u001b[43mcand_idx\u001b[49m\u001b[43m,\u001b[49m\u001b[43m \u001b[49m\u001b[43mn_candidates\u001b[49m\u001b[43m)\u001b[49m\u001b[43m,\u001b[49m\n\u001b[1;32m    975\u001b[0m \u001b[43m        \u001b[49m\u001b[38;5;241;43m*\u001b[39;49m\u001b[38;5;241;43m*\u001b[39;49m\u001b[43mfit_and_score_kwargs\u001b[49m\u001b[43m,\u001b[49m\n\u001b[1;32m    976\u001b[0m \u001b[43m    \u001b[49m\u001b[43m)\u001b[49m\n\u001b[1;32m    977\u001b[0m \u001b[43m    \u001b[49m\u001b[38;5;28;43;01mfor\u001b[39;49;00m\u001b[43m \u001b[49m\u001b[43m(\u001b[49m\u001b[43mcand_idx\u001b[49m\u001b[43m,\u001b[49m\u001b[43m \u001b[49m\u001b[43mparameters\u001b[49m\u001b[43m)\u001b[49m\u001b[43m,\u001b[49m\u001b[43m \u001b[49m\u001b[43m(\u001b[49m\u001b[43msplit_idx\u001b[49m\u001b[43m,\u001b[49m\u001b[43m \u001b[49m\u001b[43m(\u001b[49m\u001b[43mtrain\u001b[49m\u001b[43m,\u001b[49m\u001b[43m \u001b[49m\u001b[43mtest\u001b[49m\u001b[43m)\u001b[49m\u001b[43m)\u001b[49m\u001b[43m \u001b[49m\u001b[38;5;129;43;01min\u001b[39;49;00m\u001b[43m \u001b[49m\u001b[43mproduct\u001b[49m\u001b[43m(\u001b[49m\n\u001b[1;32m    978\u001b[0m \u001b[43m        \u001b[49m\u001b[38;5;28;43menumerate\u001b[39;49m\u001b[43m(\u001b[49m\u001b[43mcandidate_params\u001b[49m\u001b[43m)\u001b[49m\u001b[43m,\u001b[49m\n\u001b[1;32m    979\u001b[0m \u001b[43m        \u001b[49m\u001b[38;5;28;43menumerate\u001b[39;49m\u001b[43m(\u001b[49m\u001b[43mcv\u001b[49m\u001b[38;5;241;43m.\u001b[39;49m\u001b[43msplit\u001b[49m\u001b[43m(\u001b[49m\u001b[43mX\u001b[49m\u001b[43m,\u001b[49m\u001b[43m \u001b[49m\u001b[43my\u001b[49m\u001b[43m,\u001b[49m\u001b[43m \u001b[49m\u001b[38;5;241;43m*\u001b[39;49m\u001b[38;5;241;43m*\u001b[39;49m\u001b[43mrouted_params\u001b[49m\u001b[38;5;241;43m.\u001b[39;49m\u001b[43msplitter\u001b[49m\u001b[38;5;241;43m.\u001b[39;49m\u001b[43msplit\u001b[49m\u001b[43m)\u001b[49m\u001b[43m)\u001b[49m\u001b[43m,\u001b[49m\n\u001b[1;32m    980\u001b[0m \u001b[43m    \u001b[49m\u001b[43m)\u001b[49m\n\u001b[1;32m    981\u001b[0m \u001b[43m\u001b[49m\u001b[43m)\u001b[49m\n\u001b[1;32m    983\u001b[0m \u001b[38;5;28;01mif\u001b[39;00m \u001b[38;5;28mlen\u001b[39m(out) \u001b[38;5;241m<\u001b[39m \u001b[38;5;241m1\u001b[39m:\n\u001b[1;32m    984\u001b[0m     \u001b[38;5;28;01mraise\u001b[39;00m \u001b[38;5;167;01mValueError\u001b[39;00m(\n\u001b[1;32m    985\u001b[0m         \u001b[38;5;124m\"\u001b[39m\u001b[38;5;124mNo fits were performed. \u001b[39m\u001b[38;5;124m\"\u001b[39m\n\u001b[1;32m    986\u001b[0m         \u001b[38;5;124m\"\u001b[39m\u001b[38;5;124mWas the CV iterator empty? \u001b[39m\u001b[38;5;124m\"\u001b[39m\n\u001b[1;32m    987\u001b[0m         \u001b[38;5;124m\"\u001b[39m\u001b[38;5;124mWere there no candidates?\u001b[39m\u001b[38;5;124m\"\u001b[39m\n\u001b[1;32m    988\u001b[0m     )\n",
            "File \u001b[0;32m~/Documents/coding_assignment/envai/lib/python3.13/site-packages/sklearn/utils/parallel.py:74\u001b[0m, in \u001b[0;36mParallel.__call__\u001b[0;34m(self, iterable)\u001b[0m\n\u001b[1;32m     69\u001b[0m config \u001b[38;5;241m=\u001b[39m get_config()\n\u001b[1;32m     70\u001b[0m iterable_with_config \u001b[38;5;241m=\u001b[39m (\n\u001b[1;32m     71\u001b[0m     (_with_config(delayed_func, config), args, kwargs)\n\u001b[1;32m     72\u001b[0m     \u001b[38;5;28;01mfor\u001b[39;00m delayed_func, args, kwargs \u001b[38;5;129;01min\u001b[39;00m iterable\n\u001b[1;32m     73\u001b[0m )\n\u001b[0;32m---> 74\u001b[0m \u001b[38;5;28;01mreturn\u001b[39;00m \u001b[38;5;28;43msuper\u001b[39;49m\u001b[43m(\u001b[49m\u001b[43m)\u001b[49m\u001b[38;5;241;43m.\u001b[39;49m\u001b[38;5;21;43m__call__\u001b[39;49m\u001b[43m(\u001b[49m\u001b[43miterable_with_config\u001b[49m\u001b[43m)\u001b[49m\n",
            "File \u001b[0;32m~/Documents/coding_assignment/envai/lib/python3.13/site-packages/joblib/parallel.py:1918\u001b[0m, in \u001b[0;36mParallel.__call__\u001b[0;34m(self, iterable)\u001b[0m\n\u001b[1;32m   1916\u001b[0m     output \u001b[38;5;241m=\u001b[39m \u001b[38;5;28mself\u001b[39m\u001b[38;5;241m.\u001b[39m_get_sequential_output(iterable)\n\u001b[1;32m   1917\u001b[0m     \u001b[38;5;28mnext\u001b[39m(output)\n\u001b[0;32m-> 1918\u001b[0m     \u001b[38;5;28;01mreturn\u001b[39;00m output \u001b[38;5;28;01mif\u001b[39;00m \u001b[38;5;28mself\u001b[39m\u001b[38;5;241m.\u001b[39mreturn_generator \u001b[38;5;28;01melse\u001b[39;00m \u001b[38;5;28;43mlist\u001b[39;49m\u001b[43m(\u001b[49m\u001b[43moutput\u001b[49m\u001b[43m)\u001b[49m\n\u001b[1;32m   1920\u001b[0m \u001b[38;5;66;03m# Let's create an ID that uniquely identifies the current call. If the\u001b[39;00m\n\u001b[1;32m   1921\u001b[0m \u001b[38;5;66;03m# call is interrupted early and that the same instance is immediately\u001b[39;00m\n\u001b[1;32m   1922\u001b[0m \u001b[38;5;66;03m# re-used, this id will be used to prevent workers that were\u001b[39;00m\n\u001b[1;32m   1923\u001b[0m \u001b[38;5;66;03m# concurrently finalizing a task from the previous call to run the\u001b[39;00m\n\u001b[1;32m   1924\u001b[0m \u001b[38;5;66;03m# callback.\u001b[39;00m\n\u001b[1;32m   1925\u001b[0m \u001b[38;5;28;01mwith\u001b[39;00m \u001b[38;5;28mself\u001b[39m\u001b[38;5;241m.\u001b[39m_lock:\n",
            "File \u001b[0;32m~/Documents/coding_assignment/envai/lib/python3.13/site-packages/joblib/parallel.py:1847\u001b[0m, in \u001b[0;36mParallel._get_sequential_output\u001b[0;34m(self, iterable)\u001b[0m\n\u001b[1;32m   1845\u001b[0m \u001b[38;5;28mself\u001b[39m\u001b[38;5;241m.\u001b[39mn_dispatched_batches \u001b[38;5;241m+\u001b[39m\u001b[38;5;241m=\u001b[39m \u001b[38;5;241m1\u001b[39m\n\u001b[1;32m   1846\u001b[0m \u001b[38;5;28mself\u001b[39m\u001b[38;5;241m.\u001b[39mn_dispatched_tasks \u001b[38;5;241m+\u001b[39m\u001b[38;5;241m=\u001b[39m \u001b[38;5;241m1\u001b[39m\n\u001b[0;32m-> 1847\u001b[0m res \u001b[38;5;241m=\u001b[39m \u001b[43mfunc\u001b[49m\u001b[43m(\u001b[49m\u001b[38;5;241;43m*\u001b[39;49m\u001b[43margs\u001b[49m\u001b[43m,\u001b[49m\u001b[43m \u001b[49m\u001b[38;5;241;43m*\u001b[39;49m\u001b[38;5;241;43m*\u001b[39;49m\u001b[43mkwargs\u001b[49m\u001b[43m)\u001b[49m\n\u001b[1;32m   1848\u001b[0m \u001b[38;5;28mself\u001b[39m\u001b[38;5;241m.\u001b[39mn_completed_tasks \u001b[38;5;241m+\u001b[39m\u001b[38;5;241m=\u001b[39m \u001b[38;5;241m1\u001b[39m\n\u001b[1;32m   1849\u001b[0m \u001b[38;5;28mself\u001b[39m\u001b[38;5;241m.\u001b[39mprint_progress()\n",
            "File \u001b[0;32m~/Documents/coding_assignment/envai/lib/python3.13/site-packages/sklearn/utils/parallel.py:136\u001b[0m, in \u001b[0;36m_FuncWrapper.__call__\u001b[0;34m(self, *args, **kwargs)\u001b[0m\n\u001b[1;32m    134\u001b[0m     config \u001b[38;5;241m=\u001b[39m {}\n\u001b[1;32m    135\u001b[0m \u001b[38;5;28;01mwith\u001b[39;00m config_context(\u001b[38;5;241m*\u001b[39m\u001b[38;5;241m*\u001b[39mconfig):\n\u001b[0;32m--> 136\u001b[0m     \u001b[38;5;28;01mreturn\u001b[39;00m \u001b[38;5;28;43mself\u001b[39;49m\u001b[38;5;241;43m.\u001b[39;49m\u001b[43mfunction\u001b[49m\u001b[43m(\u001b[49m\u001b[38;5;241;43m*\u001b[39;49m\u001b[43margs\u001b[49m\u001b[43m,\u001b[49m\u001b[43m \u001b[49m\u001b[38;5;241;43m*\u001b[39;49m\u001b[38;5;241;43m*\u001b[39;49m\u001b[43mkwargs\u001b[49m\u001b[43m)\u001b[49m\n",
            "File \u001b[0;32m~/Documents/coding_assignment/envai/lib/python3.13/site-packages/sklearn/model_selection/_validation.py:876\u001b[0m, in \u001b[0;36m_fit_and_score\u001b[0;34m(estimator, X, y, scorer, train, test, verbose, parameters, fit_params, score_params, return_train_score, return_parameters, return_n_test_samples, return_times, return_estimator, split_progress, candidate_progress, error_score)\u001b[0m\n\u001b[1;32m    869\u001b[0m score_params_test \u001b[38;5;241m=\u001b[39m _check_method_params(X, params\u001b[38;5;241m=\u001b[39mscore_params, indices\u001b[38;5;241m=\u001b[39mtest)\n\u001b[1;32m    871\u001b[0m \u001b[38;5;28;01mif\u001b[39;00m parameters \u001b[38;5;129;01mis\u001b[39;00m \u001b[38;5;129;01mnot\u001b[39;00m \u001b[38;5;28;01mNone\u001b[39;00m:\n\u001b[1;32m    872\u001b[0m     \u001b[38;5;66;03m# here we clone the parameters, since sometimes the parameters\u001b[39;00m\n\u001b[1;32m    873\u001b[0m     \u001b[38;5;66;03m# themselves might be estimators, e.g. when we search over different\u001b[39;00m\n\u001b[1;32m    874\u001b[0m     \u001b[38;5;66;03m# estimators in a pipeline.\u001b[39;00m\n\u001b[1;32m    875\u001b[0m     \u001b[38;5;66;03m# ref: https://github.com/scikit-learn/scikit-learn/pull/26786\u001b[39;00m\n\u001b[0;32m--> 876\u001b[0m     estimator \u001b[38;5;241m=\u001b[39m \u001b[43mestimator\u001b[49m\u001b[38;5;241;43m.\u001b[39;49m\u001b[43mset_params\u001b[49m\u001b[43m(\u001b[49m\u001b[38;5;241;43m*\u001b[39;49m\u001b[38;5;241;43m*\u001b[39;49m\u001b[43mclone\u001b[49m\u001b[43m(\u001b[49m\u001b[43mparameters\u001b[49m\u001b[43m,\u001b[49m\u001b[43m \u001b[49m\u001b[43msafe\u001b[49m\u001b[38;5;241;43m=\u001b[39;49m\u001b[38;5;28;43;01mFalse\u001b[39;49;00m\u001b[43m)\u001b[49m\u001b[43m)\u001b[49m\n\u001b[1;32m    878\u001b[0m start_time \u001b[38;5;241m=\u001b[39m time\u001b[38;5;241m.\u001b[39mtime()\n\u001b[1;32m    880\u001b[0m X_train, y_train \u001b[38;5;241m=\u001b[39m _safe_split(estimator, X, y, train)\n",
            "File \u001b[0;32m~/Documents/coding_assignment/envai/lib/python3.13/site-packages/sklearn/pipeline.py:237\u001b[0m, in \u001b[0;36mPipeline.set_params\u001b[0;34m(self, **kwargs)\u001b[0m\n\u001b[1;32m    218\u001b[0m \u001b[38;5;28;01mdef\u001b[39;00m \u001b[38;5;21mset_params\u001b[39m(\u001b[38;5;28mself\u001b[39m, \u001b[38;5;241m*\u001b[39m\u001b[38;5;241m*\u001b[39mkwargs):\n\u001b[1;32m    219\u001b[0m \u001b[38;5;250m    \u001b[39m\u001b[38;5;124;03m\"\"\"Set the parameters of this estimator.\u001b[39;00m\n\u001b[1;32m    220\u001b[0m \n\u001b[1;32m    221\u001b[0m \u001b[38;5;124;03m    Valid parameter keys can be listed with ``get_params()``. Note that\u001b[39;00m\n\u001b[0;32m   (...)\u001b[0m\n\u001b[1;32m    235\u001b[0m \u001b[38;5;124;03m        Pipeline class instance.\u001b[39;00m\n\u001b[1;32m    236\u001b[0m \u001b[38;5;124;03m    \"\"\"\u001b[39;00m\n\u001b[0;32m--> 237\u001b[0m     \u001b[38;5;28;43mself\u001b[39;49m\u001b[38;5;241;43m.\u001b[39;49m\u001b[43m_set_params\u001b[49m\u001b[43m(\u001b[49m\u001b[38;5;124;43m\"\u001b[39;49m\u001b[38;5;124;43msteps\u001b[39;49m\u001b[38;5;124;43m\"\u001b[39;49m\u001b[43m,\u001b[49m\u001b[43m \u001b[49m\u001b[38;5;241;43m*\u001b[39;49m\u001b[38;5;241;43m*\u001b[39;49m\u001b[43mkwargs\u001b[49m\u001b[43m)\u001b[49m\n\u001b[1;32m    238\u001b[0m     \u001b[38;5;28;01mreturn\u001b[39;00m \u001b[38;5;28mself\u001b[39m\n",
            "File \u001b[0;32m~/Documents/coding_assignment/envai/lib/python3.13/site-packages/sklearn/utils/metaestimators.py:69\u001b[0m, in \u001b[0;36m_BaseComposition._set_params\u001b[0;34m(self, attr, **params)\u001b[0m\n\u001b[1;32m     66\u001b[0m                 \u001b[38;5;28mself\u001b[39m\u001b[38;5;241m.\u001b[39m_replace_estimator(attr, name, params\u001b[38;5;241m.\u001b[39mpop(name))\n\u001b[1;32m     68\u001b[0m \u001b[38;5;66;03m# 3. Step parameters and other initialisation arguments\u001b[39;00m\n\u001b[0;32m---> 69\u001b[0m \u001b[38;5;28;43msuper\u001b[39;49m\u001b[43m(\u001b[49m\u001b[43m)\u001b[49m\u001b[38;5;241;43m.\u001b[39;49m\u001b[43mset_params\u001b[49m\u001b[43m(\u001b[49m\u001b[38;5;241;43m*\u001b[39;49m\u001b[38;5;241;43m*\u001b[39;49m\u001b[43mparams\u001b[49m\u001b[43m)\u001b[49m\n\u001b[1;32m     70\u001b[0m \u001b[38;5;28;01mreturn\u001b[39;00m \u001b[38;5;28mself\u001b[39m\n",
            "File \u001b[0;32m~/Documents/coding_assignment/envai/lib/python3.13/site-packages/sklearn/base.py:279\u001b[0m, in \u001b[0;36mBaseEstimator.set_params\u001b[0;34m(self, **params)\u001b[0m\n\u001b[1;32m    277\u001b[0m \u001b[38;5;28;01mif\u001b[39;00m key \u001b[38;5;129;01mnot\u001b[39;00m \u001b[38;5;129;01min\u001b[39;00m valid_params:\n\u001b[1;32m    278\u001b[0m     local_valid_params \u001b[38;5;241m=\u001b[39m \u001b[38;5;28mself\u001b[39m\u001b[38;5;241m.\u001b[39m_get_param_names()\n\u001b[0;32m--> 279\u001b[0m     \u001b[38;5;28;01mraise\u001b[39;00m \u001b[38;5;167;01mValueError\u001b[39;00m(\n\u001b[1;32m    280\u001b[0m         \u001b[38;5;124mf\u001b[39m\u001b[38;5;124m\"\u001b[39m\u001b[38;5;124mInvalid parameter \u001b[39m\u001b[38;5;132;01m{\u001b[39;00mkey\u001b[38;5;132;01m!r}\u001b[39;00m\u001b[38;5;124m for estimator \u001b[39m\u001b[38;5;132;01m{\u001b[39;00m\u001b[38;5;28mself\u001b[39m\u001b[38;5;132;01m}\u001b[39;00m\u001b[38;5;124m. \u001b[39m\u001b[38;5;124m\"\u001b[39m\n\u001b[1;32m    281\u001b[0m         \u001b[38;5;124mf\u001b[39m\u001b[38;5;124m\"\u001b[39m\u001b[38;5;124mValid parameters are: \u001b[39m\u001b[38;5;132;01m{\u001b[39;00mlocal_valid_params\u001b[38;5;132;01m!r}\u001b[39;00m\u001b[38;5;124m.\u001b[39m\u001b[38;5;124m\"\u001b[39m\n\u001b[1;32m    282\u001b[0m     )\n\u001b[1;32m    284\u001b[0m \u001b[38;5;28;01mif\u001b[39;00m delim:\n\u001b[1;32m    285\u001b[0m     nested_params[key][sub_key] \u001b[38;5;241m=\u001b[39m value\n",
            "\u001b[0;31mValueError\u001b[0m: Invalid parameter 'C' for estimator Pipeline(steps=[('standardscaler', StandardScaler()),\n                ('svc', SVC(kernel='linear', probability=True))]). Valid parameters are: ['memory', 'steps', 'verbose']."
          ]
        }
      ],
      "source": [
        "# Some values for reference, you might change this for improved results\n",
        "from sklearn.model_selection import GridSearchCV\n",
        "param_grid = {'C': [0.1,1, 10, 100],\n",
        "              'gamma': [1,0.1,0.01,0.001],\n",
        "              'degree': [2, 3, 5]}\n",
        "search = GridSearchCV(clf, param_grid, cv=5)\n",
        "search.fit(X_train,Y_train)"
      ]
    },
    {
      "cell_type": "markdown",
      "metadata": {
        "id": "r2pD7gcW85jF"
      },
      "source": [
        "## 3. PERFORMANCE MEASURES\n",
        "**a) Fill in the function bellow to computing different evaluation measures and give a performance report**\n",
        "Look at the formulas and definitions in https://en.wikipedia.org/wiki/Evaluation_measures_(information_retrieval)\n",
        "\n",
        "Start by computing the confusion matrix values TP, TN, FP, FN\n",
        "\n",
        "You can use the code bellow as guide or define your own functions\n",
        "\n",
        "**Hint:** Add a numerical zero eps to the denominators to prevent dividing by zero\n",
        "\n",
        "Compare your results vs the in-built sklearn measures:\n",
        "```from sklearn.metrics import classification_report```"
      ]
    },
    {
      "cell_type": "code",
      "execution_count": 15,
      "metadata": {
        "id": "Ss0btkVw85jG"
      },
      "outputs": [
        {
          "ename": "SyntaxError",
          "evalue": "invalid syntax (1115052590.py, line 10)",
          "output_type": "error",
          "traceback": [
            "\u001b[0;36m  Cell \u001b[0;32mIn[15], line 10\u001b[0;36m\u001b[0m\n\u001b[0;31m    TP =\u001b[0m\n\u001b[0m        ^\u001b[0m\n\u001b[0;31mSyntaxError\u001b[0m\u001b[0;31m:\u001b[0m invalid syntax\n"
          ]
        }
      ],
      "source": [
        "# Functions to compute the errors between prediction and ground truth\n",
        "\n",
        "def compute_measures(Y_gt,Y_pred, positiveClass=1): #Y_gt = ground truth\n",
        "    measures = dict()\n",
        "    Y_len = len(Y_gt)\n",
        "\n",
        "    eps = 1e-12\n",
        "\n",
        "    # True positives TP\n",
        "    TP = Y_pred[Y_gt==1]\n",
        "\n",
        "    # True negatives TN\n",
        "    TN =\n",
        "\n",
        "    # False positives FP\n",
        "    FP =\n",
        "\n",
        "    # False negatives FN\n",
        "    FN =\n",
        "\n",
        "    print('TP ', TP, 'TN ', TN, 'FP', FP, 'FN', FN, 'Total', TP+TN+FP+FN)\n",
        "    measures['TP'] = TP\n",
        "    measures['TN'] = TN\n",
        "    measures['FP'] = FP\n",
        "    measures['FN'] = FN\n",
        "\n",
        "\n",
        "    # Accuracy\n",
        "    measures['accuracy'] =\n",
        "\n",
        "    # Precision\n",
        "    measures['precision'] =\n",
        "\n",
        "    # Specificity\n",
        "    measures['specificity']=\n",
        "\n",
        "    # Recall\n",
        "    measures['recall'] =\n",
        "\n",
        "    # F-measure\n",
        "    measures['f1'] =\n",
        "\n",
        "    # Negative Predictive Value\n",
        "    measures['npv'] =\n",
        "\n",
        "    # False Positive Rate\n",
        "    measures['fpr'] =\n",
        "\n",
        "    print('Accuracy ', measures['accuracy'], '\\n',\n",
        "          'Precision', measures['precision'], '\\n',\n",
        "          'Recall', measures['recall'], '\\n',\n",
        "          'Specificity ', measures['specificity'], '\\n',\n",
        "          'F-measure', measures['f1'], '\\n',\n",
        "          'NPV', measures['npv'],'\\n',\n",
        "          'FPV', measures['fpr'],'\\n')\n",
        "\n",
        "    return measures\n",
        "\n",
        "\n"
      ]
    },
    {
      "cell_type": "markdown",
      "metadata": {
        "id": "eXMqcNVOG1yn"
      },
      "source": [
        "**b) ROC curves**\n",
        "- Plot the ROC curves of all the trained svm models (with different kernels including linear) before and after the hyperparameter tuning. Comment the results\n",
        "- Compare the roc curves of the best obtained models for each kernel between.\n",
        "- Add a curve for a  logistic regression model.\n",
        "\n",
        "You might use your own thresholding function or use the ``roc_curve`` functionality from scikit learn\n",
        "\n",
        "Hint: To threshold we need to make probabilistic predictions"
      ]
    },
    {
      "cell_type": "code",
      "execution_count": null,
      "metadata": {
        "id": "OK7mXCQJopRs"
      },
      "outputs": [],
      "source": [
        "# Fit a logistic regression model here and make probabilistic predictions"
      ]
    },
    {
      "cell_type": "code",
      "execution_count": null,
      "metadata": {
        "id": "n7SkVO85oyh_"
      },
      "outputs": [],
      "source": [
        "# plot no skill roc curve\n",
        "plt.plot([0, 1], [0, 1], linestyle='--', label='No Skill')\n",
        "\n",
        "# calculate roc curve for logistic regression\n",
        "fpr, tpr, _ = roc_curve(Y_test, Y_pred_logreg_probas[:,1])\n",
        "plt.plot(fpr, tpr, marker='.', label='Logistic')\n",
        "\n",
        "# axis labels\n",
        "plt.xlabel('False Positive Rate')\n",
        "plt.ylabel('True Positive Rate')\n",
        "\n",
        "# show the legend\n",
        "plt.legend()\n",
        "\n",
        "# show the plot\n",
        "plt.show()\n",
        "\n"
      ]
    },
    {
      "cell_type": "markdown",
      "metadata": {
        "id": "50WjtVRQ85jK"
      },
      "source": [
        "**c) Qualitative Results** Using your best model, show some of the test images and write on the title the predictions vs the ground truth labels"
      ]
    },
    {
      "cell_type": "code",
      "execution_count": null,
      "metadata": {
        "id": "U_xba2ji85jL",
        "scrolled": true
      },
      "outputs": [],
      "source": [
        "# Show some results\n",
        "width=20\n",
        "height=15\n",
        "plt.rcParams['figure.figsize'] = [width, height]\n",
        "\n",
        "#Change your predictions vector here\n",
        "Y_best=Y_rbfBest\n",
        "\n",
        "fig=plt.figure()\n",
        "imCounter = 1\n",
        "for i in range(len(Y_test)):\n",
        "    image=np.reshape(X_test[i,:], (imHeight,imWidth))\n",
        "\n",
        "    plt.subplot(5,7,imCounter)\n",
        "    plt.imshow(image,cmap='gray')\n",
        "    plt.axis('off')\n",
        "    gtLabel = labelNames[Y_test.ravel()[i].astype(int)]\n",
        "    predLabel = labelNames[Y_best.ravel()[i].astype(int)]\n",
        "    plt.title('GT: {}. \\n Pred: {}'.format(gtLabel, predLabel))\n",
        "\n",
        "    imCounter += 1\n",
        "plt.show()\n"
      ]
    },
    {
      "cell_type": "markdown",
      "metadata": {
        "id": "DkOEYriCqPA3"
      },
      "source": [
        "**d) REPORT:** Starting from the best model, analyse and discuss the behaviour for different SVC hyperparameters, choice of classes, and numbers of images in each class.\n"
      ]
    },
    {
      "cell_type": "code",
      "execution_count": null,
      "metadata": {
        "id": "EGeHBtGiqb1s"
      },
      "outputs": [],
      "source": []
    }
  ],
  "metadata": {
    "anaconda-cloud": {},
    "colab": {
      "provenance": []
    },
    "kernelspec": {
      "display_name": "envai",
      "language": "python",
      "name": "python3"
    },
    "language_info": {
      "codemirror_mode": {
        "name": "ipython",
        "version": 3
      },
      "file_extension": ".py",
      "mimetype": "text/x-python",
      "name": "python",
      "nbconvert_exporter": "python",
      "pygments_lexer": "ipython3",
      "version": "3.13.0"
    }
  },
  "nbformat": 4,
  "nbformat_minor": 0
}
